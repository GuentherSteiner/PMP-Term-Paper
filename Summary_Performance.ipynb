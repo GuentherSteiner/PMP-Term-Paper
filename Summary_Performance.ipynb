{
 "cells": [
  {
   "cell_type": "code",
   "execution_count": 3,
   "id": "41810211",
   "metadata": {},
   "outputs": [],
   "source": [
    "import numpy as np\n",
    "from scipy.stats import skew, kurtosis\n",
    "\n",
    "def summarize_performance(xs_returns, rf, factor_xs_returns, annualization_factor, txt):\n",
    "    # Compute total returns\n",
    "    n_assets = xs_returns.shape[1]\n",
    "    total_returns = xs_returns + rf * np.ones((xs_returns.shape[0], n_assets))\n",
    "\n",
    "    # Compute the terminal value of the portfolios to get the geometric mean\n",
    "    # return per period\n",
    "    n_periods = xs_returns.shape[0]\n",
    "    final_pf_val_rf = np.prod(1 + rf)\n",
    "    final_pf_val_total_ret = np.prod(1 + total_returns)\n",
    "    geom_avg_rf = 100 * ((final_pf_val_rf ** (annualization_factor / n_periods)) - 1)\n",
    "    geom_avg_total_return = 100 * ((final_pf_val_total_ret ** (annualization_factor / n_periods)) - 1)\n",
    "    geom_avg_xs_return = geom_avg_total_return - geom_avg_rf\n",
    "\n",
    "    # Regress returns on benchmark to get alpha and factor exposures\n",
    "    X = np.column_stack((np.ones(n_periods), factor_xs_returns))\n",
    "    b = np.linalg.lstsq(X, xs_returns, rcond=None)[0]\n",
    "    betas = b[1:, :]\n",
    "\n",
    "    # Based on the regression estimates, compute the total return on the passive\n",
    "    # alternative and the annualized alpha\n",
    "    bm_ret = np.dot(factor_xs_returns, betas) + rf * np.ones((n_periods, n_assets))\n",
    "    final_pf_val_bm = np.prod(1 + bm_ret)\n",
    "    geom_avg_bm_return = 100 * ((final_pf_val_bm ** (annualization_factor / n_periods)) - 1)\n",
    "    alpha_geometric = geom_avg_total_return - geom_avg_bm_return\n",
    "\n",
    "    # Rescale the returns to be in percentage points\n",
    "    xs_returns = 100 * xs_returns\n",
    "    total_returns = 100 * total_returns\n",
    "\n",
    "    # Compute first three autocorrelations\n",
    "    ac1 = np.diag(np.corrcoef(xs_returns[:-1, :], xs_returns[1:, :], rowvar=False)[:n_assets, n_assets:])\n",
    "    ac2 = np.diag(np.corrcoef(xs_returns[:-2, :], xs_returns[2:, :], rowvar=False)[:n_assets, n_assets:])\n",
    "    ac3 = np.diag(np.corrcoef(xs_returns[:-3, :], xs_returns[3:, :], rowvar=False)[:n_assets, n_assets:])\n",
    "\n",
    "    # Report the statistics\n",
    "    print(f'Performance Statistics for {txt}')\n",
    "    arithm_avg_total_return = annualization_factor * np.mean(total_returns)\n",
    "    arithm_avg_xs_return = annualization_factor * np.mean(xs_returns)\n",
    "    std_xs_returns = np.sqrt(annualization_factor) * np.std(xs_returns, ddof=1)\n",
    "    sharpe_arithmetic = arithm_avg_xs_return / std_xs_returns\n",
    "    print(f'ArithmAvgTotalReturn: {arithm_avg_total_return}')\n",
    "    print(f'ArithmAvgXsReturn: {arithm_avg_xs_return}')\n",
    "    print(f'StdXsReturns: {std_xs_returns}')\n",
    "    print(f'SharpeArithmetic: {sharpe_arithmetic}')\n",
    "    print(f'GeomAvgTotalReturn: {geom_avg_total_return}')\n",
    "    print(f'GeomAvgXsReturn: {geom_avg_xs_return}')\n",
    "    sharpe_geometric = geom_avg_xs_return / std_xs_returns\n",
    "    print(f'SharpeGeometric: {sharpe_geometric}')\n",
    "    print(f'MinXsReturn: {np.min(xs_returns, axis=0)}')\n",
    "    print(f'MaxXsReturn: {np.max(xs_returns, axis=0)}')\n"
   ]
  },
  {
   "cell_type": "code",
   "execution_count": null,
   "id": "f787a4f4",
   "metadata": {},
   "outputs": [],
   "source": []
  }
 ],
 "metadata": {
  "kernelspec": {
   "display_name": "Python 3 (ipykernel)",
   "language": "python",
   "name": "python3"
  },
  "language_info": {
   "codemirror_mode": {
    "name": "ipython",
    "version": 3
   },
   "file_extension": ".py",
   "mimetype": "text/x-python",
   "name": "python",
   "nbconvert_exporter": "python",
   "pygments_lexer": "ipython3",
   "version": "3.9.13"
  }
 },
 "nbformat": 4,
 "nbformat_minor": 5
}
