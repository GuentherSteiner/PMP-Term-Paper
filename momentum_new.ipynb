{
 "cells": [
  {
   "cell_type": "markdown",
   "metadata": {},
   "source": [
    "# Load Packages"
   ]
  },
  {
   "cell_type": "markdown",
   "metadata": {},
   "source": [
    "What we can recall from critisicm regarding this presentation:\n",
    "\n",
    "- did not take the equal weighted as benchmark\n",
    "- use total return indices (I think)"
   ]
  },
  {
   "cell_type": "code",
   "execution_count": 242,
   "metadata": {},
   "outputs": [],
   "source": [
    "#### Import required Packages ####\n",
    "import numpy as np\n",
    "import pandas as pd\n",
    "import seaborn as sb\n",
    "import datetime as dt\n",
    "import matplotlib.pyplot as plt\n",
    "from pandas.tseries.offsets import MonthEnd\n",
    "import math\n",
    "from scipy.stats import skew, kurtosis\n",
    "\n",
    "# Seaborn\n",
    "sb.set_style(\"ticks\")\n",
    "sb.mpl.rc(\"figure\", figsize=(16,8))\n",
    "sb.mpl.rc(\"font\", size=14)\n",
    "plt.rcParams['xtick.direction'] = 'in'\n",
    "plt.rcParams['ytick.direction'] = 'in'\n",
    "\n",
    "# little function for later\n",
    "def isNaN(string):\n",
    "    return string != string"
   ]
  },
  {
   "attachments": {},
   "cell_type": "markdown",
   "metadata": {},
   "source": [
    "# Plotstyle"
   ]
  },
  {
   "cell_type": "code",
   "execution_count": 243,
   "metadata": {},
   "outputs": [],
   "source": [
    "# Seaborn plot style ticks to have nicer looking plots\n",
    "sb.set_style(\"ticks\")\n",
    "sb.mpl.rc(\"figure\", figsize=(16,8))\n",
    "sb.mpl.rc(\"font\", size=14)\n",
    "plt.rcParams['xtick.direction'] = 'in'\n",
    "plt.rcParams['ytick.direction'] = 'in'"
   ]
  },
  {
   "cell_type": "markdown",
   "metadata": {},
   "source": [
    "# Load Data"
   ]
  },
  {
   "cell_type": "code",
   "execution_count": 244,
   "metadata": {},
   "outputs": [],
   "source": [
    "# rawdata is direct import from excel\n",
    "\n",
    "# Import of excel data, sheet by sheet\n",
    "xls_ETF = pd.ExcelFile(\"1_Data/Data Clean TM/Data_ETFxIndex_stiched.xlsx\")\n",
    "xls_Inflation = pd.ExcelFile(\"1_Data/Data Clean TM/Data_Inflation.xlsx\")\n",
    "xls_Yield = pd.ExcelFile(\"1_Data/Data Clean TM/Yields_Clean_TM.xlsx\")\n",
    "xls_FX = pd.ExcelFile(\"1_Data/Data Clean TM/Data_FX_spot.xlsx\")\n",
    "\n",
    "ETF_raw = pd.DataFrame(pd.read_excel(xls_ETF))\n",
    "Inflation_raw = pd.DataFrame(pd.read_excel(xls_Inflation, 2))\n",
    "Yield_long_raw = pd.DataFrame(pd.read_excel(xls_Yield, 2))\n",
    "Yield_short_raw = pd.DataFrame(pd.read_excel(xls_Yield, 3))\n",
    "FX_raw = pd.DataFrame(pd.read_excel(xls_FX, 3))\n",
    "\n",
    "# keep a safe copy of the rawdata to compare the changes\n",
    "ETF = ETF_raw.copy()\n",
    "Inflation = Inflation_raw.copy()\n",
    "Yield_long = Yield_long_raw.copy()\n",
    "Yield_short = Yield_short_raw.copy()\n",
    "FX = FX_raw.copy()\n",
    "\n",
    "# Set date as index\n",
    "ETF.set_index(\"Datum\", inplace=True)\n",
    "Inflation.set_index(\"Datum\", inplace=True)\n",
    "Yield_long.set_index(\"Datum\", inplace=True)\n",
    "Yield_short.set_index(\"Datum\", inplace=True)\n",
    "FX.set_index(\"Dates\", inplace=True)"
   ]
  },
  {
   "cell_type": "code",
   "execution_count": 245,
   "metadata": {},
   "outputs": [],
   "source": [
    "# Drop all the columns in which only text is and safe them separately --> ONLY RUN ONCE\n",
    "# ETF_text = ETF.iloc[0,:]\n",
    "# Yield_text = Yield.iloc[0,:]\n",
    "# Yield_short_text = Yield_short.iloc[0,:]\n",
    "# cpicore_text = cpicore.iloc[0:1,:]\n",
    "# ETF.drop([0], inplace = True)\n",
    "# Yield.drop([0], inplace = True)\n",
    "# Yield_short.drop([0], inplace = True)\n",
    "# cpicore.drop([0,1], inplace = True)"
   ]
  },
  {
   "attachments": {},
   "cell_type": "markdown",
   "metadata": {},
   "source": [
    "# Universal Variables"
   ]
  },
  {
   "cell_type": "code",
   "execution_count": 246,
   "metadata": {},
   "outputs": [],
   "source": [
    "tCost = 0.005 # Needs to be discussed !!"
   ]
  },
  {
   "attachments": {},
   "cell_type": "markdown",
   "metadata": {},
   "source": [
    "# Universal Functions"
   ]
  },
  {
   "cell_type": "code",
   "execution_count": 247,
   "metadata": {},
   "outputs": [],
   "source": [
    "def computeTurnover(previousWeights, newWeights, assetReturns, Rf):\n",
    "    \"\"\"\n",
    "    Computes turnover by comparing the previous and the new target weights \n",
    "    of the portfolio, accounting for the returns on the assets. The function \n",
    "    also computes the portfolio return excluding transaction costs, Rp. \n",
    "\n",
    "    Parameters:\n",
    "        previousWeights (array-like): previous target weights of the portfolio\n",
    "        newWeights (array-like): new target weights of the portfolio\n",
    "        assetReturns (array-like): returns on the assets\n",
    "        Rf (float): risk-free rate of return\n",
    "\n",
    "    Returns:\n",
    "        turnover (float): turnover\n",
    "        Rp (float): portfolio return excluding transaction costs\n",
    "    \"\"\"\n",
    "\n",
    "    Rp = np.sum(np.multiply(previousWeights, assetReturns)) + (1 - np.sum(previousWeights)) * Rf\n",
    "    valuePerAsset = previousWeights * (1 + assetReturns)\n",
    "    currentWeights = valuePerAsset / (1 + Rp)\n",
    "    turnover = np.sum(np.abs(newWeights - currentWeights))\n",
    "\n",
    "    return turnover, Rp"
   ]
  },
  {
   "cell_type": "code",
   "execution_count": 248,
   "metadata": {},
   "outputs": [],
   "source": [
    "# def summarize_performance(xs_returns, rf, factor_xs_returns, annualization_factor, txt):\n",
    "#     # Compute total returns\n",
    "#     n_assets = xs_returns.shape[1]\n",
    "#     total_returns = xs_returns + rf * np.ones((xs_returns.shape[0], n_assets))\n",
    "\n",
    "#     # Compute the terminal value of the portfolios to get the geometric mean\n",
    "#     # return per period\n",
    "#     n_periods = xs_returns.shape[0]\n",
    "#     final_pf_val_rf = np.prod(1 + rf)\n",
    "#     final_pf_val_total_ret = np.prod(1 + total_returns)\n",
    "#     geom_avg_rf = 100 * ((final_pf_val_rf ** (annualization_factor / n_periods)) - 1)\n",
    "#     geom_avg_total_return = 100 * ((final_pf_val_total_ret ** (annualization_factor / n_periods)) - 1)\n",
    "#     geom_avg_xs_return = geom_avg_total_return - geom_avg_rf\n",
    "\n",
    "#     # Regress returns on benchmark to get alpha and factor exposures\n",
    "#     X = np.column_stack((np.ones(n_periods), factor_xs_returns))\n",
    "#     b = np.linalg.lstsq(X, xs_returns, rcond=None)[0]\n",
    "#     betas = b[1:, :]\n",
    "\n",
    "#     # Based on the regression estimates, compute the total return on the passive\n",
    "#     # alternative and the annualized alpha\n",
    "#     bm_ret = np.dot(factor_xs_returns, betas) + rf * np.ones((n_periods, n_assets))\n",
    "#     final_pf_val_bm = np.prod(1 + bm_ret)\n",
    "#     geom_avg_bm_return = 100 * ((final_pf_val_bm ** (annualization_factor / n_periods)) - 1)\n",
    "#     alpha_geometric = geom_avg_total_return - geom_avg_bm_return\n",
    "\n",
    "#     # Rescale the returns to be in percentage points\n",
    "#     xs_returns = 100 * xs_returns\n",
    "#     total_returns = 100 * total_returns\n",
    "\n",
    "#     # Compute first three autocorrelations\n",
    "#     ac1 = np.diag(np.corrcoef(xs_returns[:-1, :], xs_returns[1:, :], rowvar=False)[:n_assets, n_assets:])\n",
    "#     ac2 = np.diag(np.corrcoef(xs_returns[:-2, :], xs_returns[2:, :], rowvar=False)[:n_assets, n_assets:])\n",
    "#     ac3 = np.diag(np.corrcoef(xs_returns[:-3, :], xs_returns[3:, :], rowvar=False)[:n_assets, n_assets:])\n",
    "\n",
    "#     # Report the statistics\n",
    "#     print(f'Performance Statistics for {txt}')\n",
    "#     arithm_avg_total_return = annualization_factor * np.mean(total_returns)\n",
    "#     arithm_avg_xs_return = annualization_factor * np.mean(xs_returns)\n",
    "#     std_xs_returns = np.sqrt(annualization_factor) * np.std(xs_returns, ddof=1)\n",
    "#     sharpe_arithmetic = arithm_avg_xs_return / std_xs_returns\n",
    "#     print(f'ArithmAvgTotalReturn: {arithm_avg_total_return}')\n",
    "#     print(f'ArithmAvgXsReturn: {arithm_avg_xs_return}')\n",
    "#     print(f'StdXsReturns: {std_xs_returns}')\n",
    "#     print(f'SharpeArithmetic: {sharpe_arithmetic}')\n",
    "#     print(f'GeomAvgTotalReturn: {geom_avg_total_return}')\n",
    "#     print(f'GeomAvgXsReturn: {geom_avg_xs_return}')\n",
    "#     sharpe_geometric = geom_avg_xs_return / std_xs_returns\n",
    "#     print(f'SharpeGeometric: {sharpe_geometric}')\n",
    "#     print(f'MinXsReturn: {np.min(xs_returns, axis=0)}')\n",
    "#     print(f'MaxXsReturn: {np.max(xs_returns, axis=0)}')\n"
   ]
  },
  {
   "cell_type": "code",
   "execution_count": 249,
   "metadata": {},
   "outputs": [],
   "source": [
    "def summarize_performance2(xs_returns, rf, factor_xs_returns, annualization_factor, txt):\n",
    "    # Compute total returns\n",
    "    n_assets = xs_returns.shape[1]\n",
    "    rf_reshaped = rf.values.reshape((-1,1))\n",
    "    total_returns = xs_returns + rf_reshaped * np.ones((xs_returns.shape[0], n_assets))\n",
    "\n",
    "    # Compute the terminal value of the portfolios to get the geometric mean\n",
    "    # return per period\n",
    "    n_periods = xs_returns.shape[0]\n",
    "    final_pf_val_rf = np.prod(1 + rf_reshaped)\n",
    "    final_pf_val_total_ret = np.prod(1 + total_returns)\n",
    "    geom_avg_rf = 100 * ((final_pf_val_rf ** (annualization_factor / n_periods)) - 1)\n",
    "    geom_avg_total_return = 100 * ((final_pf_val_total_ret ** (annualization_factor / n_periods)) - 1)\n",
    "    geom_avg_xs_return = geom_avg_total_return - geom_avg_rf\n",
    "\n",
    "    # Regress returns on benchmark to get alpha and factor exposures\n",
    "    X = np.column_stack((np.ones(n_periods), factor_xs_returns))\n",
    "    b = np.linalg.lstsq(X, xs_returns, rcond=None)[0]\n",
    "    betas = b[1:, :]\n",
    "\n",
    "    # Based on the regression estimates, compute the total return on the passive\n",
    "    # alternative and the annualized alpha\n",
    "    bm_ret = np.dot(np.array(factor_xs_returns).reshape(-1, 1), betas) + rf_reshaped * np.ones((n_periods, n_assets))\n",
    "    final_pf_val_bm = np.prod(1 + bm_ret)\n",
    "    geom_avg_bm_return = 100 * ((final_pf_val_bm ** (annualization_factor / n_periods)) - 1)\n",
    "    alpha_geometric = geom_avg_total_return - geom_avg_bm_return\n",
    "\n",
    "    # Rescale the returns to be in percentage points\n",
    "    xs_returns = 100 * xs_returns\n",
    "    total_returns = 100 * total_returns\n",
    "\n",
    "    # Report the statistics\n",
    "    print(f'Performance Statistics for {txt}')\n",
    "    arithm_avg_total_return = annualization_factor * np.mean(total_returns)\n",
    "    arithm_avg_xs_return = annualization_factor * np.mean(xs_returns)\n",
    "    std_xs_returns = np.sqrt(annualization_factor) * np.std(xs_returns, ddof=1)\n",
    "    sharpe_arithmetic = arithm_avg_xs_return / std_xs_returns\n",
    "    print(f'ArithmAvgTotalReturn: {arithm_avg_total_return}')\n",
    "    print(f'ArithmAvgXsReturn: {arithm_avg_xs_return}')\n",
    "    print(f'StdXsReturns: {std_xs_returns}')\n",
    "    print(f'SharpeArithmetic: {sharpe_arithmetic}')\n",
    "    print(f'GeomAvgTotalReturn: {geom_avg_total_return}')\n",
    "    print(f'GeomAvgXsReturn: {geom_avg_xs_return}')\n",
    "    sharpe_geometric = geom_avg_xs_return / std_xs_returns\n",
    "    print(f'SharpeGeometric: {sharpe_geometric}')\n",
    "    print(f'MinXsReturn: {np.min(xs_returns, axis=0)}')\n",
    "    print(f'MaxXsReturn: {np.max(xs_returns, axis=0)}')\n"
   ]
  },
  {
   "cell_type": "markdown",
   "metadata": {},
   "source": [
    "# Value"
   ]
  },
  {
   "cell_type": "markdown",
   "metadata": {},
   "source": [
    "Recent infl – the average of the headline and core annual CPI inflation rate\n",
    "--> we don't have headline inflation\n",
    "\n",
    "\n",
    "Effective target infl - The effective inflation target is the mean of the target range announced or implied by the authorities plus an adjusted for past “target misses”, which is the last 3 years’ average gap between actual inflation and the target means\n",
    "--> we don't have target rates for all countries --> use 2.5 as target rate\n",
    "\n",
    "Formula: (1/n)*recent infl + ((n-1)/n)*effective target infl"
   ]
  },
  {
   "cell_type": "code",
   "execution_count": 250,
   "metadata": {},
   "outputs": [],
   "source": [
    "# first we will take the difference between the effective target (mean) inflation and the actual inflation\n",
    "\n",
    "cpiheadline = Inflation.copy()\n",
    "\n",
    "eff_target_diff = pd.DataFrame(columns = cpiheadline.columns, index = cpiheadline.index)\n",
    "\n",
    "for i in eff_target_diff.columns:\n",
    "    if i == \"Australia\":\n",
    "        eff_target_diff.loc[:,i] = cpiheadline.loc[:,i] - 0.025\n",
    "    elif i == \"Canada\":\n",
    "        eff_target_diff.loc[:,i] = cpiheadline.loc[:,i] - 0.02\n",
    "    elif i == \"China\":\n",
    "        eff_target_diff.loc[:,i] = cpiheadline.loc[:,i] - 0.02\n",
    "    elif i == \"Germany\":\n",
    "        eff_target_diff.loc[:,i] = cpiheadline.loc[:,i] - 0.02\n",
    "    elif i == \"France\":\n",
    "        eff_target_diff.loc[:,i] = cpiheadline.loc[:,i] - 0.02\n",
    "    elif i == \"UK\":\n",
    "        eff_target_diff.loc[:\"2003-11-28\",i] = cpiheadline.loc[:\"2003-11-28\",i] - 0.025\n",
    "        eff_target_diff.loc[\"2003-12-31\":,i] = cpiheadline.loc[\"2003-12-31\":,i] - 0.02\n",
    "    elif i == \"Italy\":\n",
    "        eff_target_diff.loc[:,i] = cpiheadline.loc[:,i] - 0.02\n",
    "    elif i == \"Japan\":\n",
    "        eff_target_diff.loc[:,i] = cpiheadline.loc[:,i] - 0.033\n",
    "    elif i == \"Singapore\":\n",
    "        eff_target_diff.loc[:,i] = cpiheadline.loc[:,i] - 0.02\n",
    "    elif i == \"USA\":\n",
    "        eff_target_diff.loc[:\"2011-12-31\",i] = cpiheadline.loc[:\"2011-12-31\",i] - 0.0185\n",
    "        eff_target_diff.loc[\"2012-01-31\":,i] = cpiheadline.loc[\"2012-01-31\":,i] - 0.02\n",
    "    elif i == \"Spain\":\n",
    "        eff_target_diff.loc[:,i] = cpiheadline.loc[:,i] - 0.02\n",
    "    elif i == \"Switzerland\":\n",
    "        eff_target_diff.loc[:,i] = cpiheadline.loc[:,i] - 0.01\n",
    "    elif i == \"India\":\n",
    "        eff_target_diff.loc[:,i] = cpiheadline.loc[:,i] - 0.04"
   ]
  },
  {
   "cell_type": "code",
   "execution_count": 251,
   "metadata": {},
   "outputs": [
    {
     "data": {
      "text/plain": [
       "-0.012722222222222225"
      ]
     },
     "execution_count": 251,
     "metadata": {},
     "output_type": "execute_result"
    }
   ],
   "source": [
    "np.nanmean(eff_target_diff.loc[:\"2002-11-30\", \"Singapore\"])\n",
    "#np.nanmean(eff_target_diff.loc[\"2020-04-30\":, \"Singapore\"])"
   ]
  },
  {
   "cell_type": "code",
   "execution_count": 252,
   "metadata": {},
   "outputs": [
    {
     "ename": "AttributeError",
     "evalue": "'float' object has no attribute 'dtype'",
     "output_type": "error",
     "traceback": [
      "\u001b[0;31m---------------------------------------------------------------------------\u001b[0m",
      "\u001b[0;31mAttributeError\u001b[0m                            Traceback (most recent call last)",
      "\u001b[0;32m/var/folders/p7/g7d04mzx5wn88jp9x3dzpb9w0000gn/T/ipykernel_41276/1253670602.py\u001b[0m in \u001b[0;36m<module>\u001b[0;34m\u001b[0m\n\u001b[1;32m     13\u001b[0m \u001b[0;34m\u001b[0m\u001b[0m\n\u001b[1;32m     14\u001b[0m     \u001b[0;32mfor\u001b[0m \u001b[0mj\u001b[0m\u001b[0;34m,\u001b[0m\u001b[0mk\u001b[0m \u001b[0;32min\u001b[0m \u001b[0menumerate\u001b[0m\u001b[0;34m(\u001b[0m\u001b[0mcpiheadline\u001b[0m\u001b[0;34m.\u001b[0m\u001b[0mcolumns\u001b[0m\u001b[0;34m)\u001b[0m\u001b[0;34m:\u001b[0m\u001b[0;34m\u001b[0m\u001b[0;34m\u001b[0m\u001b[0m\n\u001b[0;32m---> 15\u001b[0;31m         \u001b[0minflation\u001b[0m \u001b[0;34m=\u001b[0m \u001b[0mnp\u001b[0m\u001b[0;34m.\u001b[0m\u001b[0mnanmean\u001b[0m\u001b[0;34m(\u001b[0m\u001b[0meff_target_diff\u001b[0m\u001b[0;34m.\u001b[0m\u001b[0miloc\u001b[0m\u001b[0;34m[\u001b[0m\u001b[0mrunner\u001b[0m\u001b[0;34m-\u001b[0m\u001b[0;36m36\u001b[0m\u001b[0;34m:\u001b[0m\u001b[0mrunner\u001b[0m\u001b[0;34m,\u001b[0m \u001b[0mj\u001b[0m\u001b[0;34m]\u001b[0m\u001b[0;34m)\u001b[0m\u001b[0;34m\u001b[0m\u001b[0;34m\u001b[0m\u001b[0m\n\u001b[0m\u001b[1;32m     16\u001b[0m         \u001b[0mcpiheadline_avg\u001b[0m\u001b[0;34m[\u001b[0m\u001b[0mk\u001b[0m\u001b[0;34m]\u001b[0m\u001b[0;34m.\u001b[0m\u001b[0minsert\u001b[0m\u001b[0;34m(\u001b[0m\u001b[0;36m0\u001b[0m\u001b[0;34m,\u001b[0m \u001b[0minflation\u001b[0m\u001b[0;34m)\u001b[0m\u001b[0;34m\u001b[0m\u001b[0;34m\u001b[0m\u001b[0m\n\u001b[1;32m     17\u001b[0m     \u001b[0mrunner\u001b[0m \u001b[0;34m-=\u001b[0m \u001b[0;36m1\u001b[0m\u001b[0;34m\u001b[0m\u001b[0;34m\u001b[0m\u001b[0m\n",
      "\u001b[0;32m<__array_function__ internals>\u001b[0m in \u001b[0;36mnanmean\u001b[0;34m(*args, **kwargs)\u001b[0m\n",
      "\u001b[0;32m~/opt/anaconda3/envs/pmp/lib/python3.9/site-packages/numpy/lib/nanfunctions.py\u001b[0m in \u001b[0;36mnanmean\u001b[0;34m(a, axis, dtype, out, keepdims)\u001b[0m\n\u001b[1;32m    948\u001b[0m     \u001b[0mcnt\u001b[0m \u001b[0;34m=\u001b[0m \u001b[0mnp\u001b[0m\u001b[0;34m.\u001b[0m\u001b[0msum\u001b[0m\u001b[0;34m(\u001b[0m\u001b[0;34m~\u001b[0m\u001b[0mmask\u001b[0m\u001b[0;34m,\u001b[0m \u001b[0maxis\u001b[0m\u001b[0;34m=\u001b[0m\u001b[0maxis\u001b[0m\u001b[0;34m,\u001b[0m \u001b[0mdtype\u001b[0m\u001b[0;34m=\u001b[0m\u001b[0mnp\u001b[0m\u001b[0;34m.\u001b[0m\u001b[0mintp\u001b[0m\u001b[0;34m,\u001b[0m \u001b[0mkeepdims\u001b[0m\u001b[0;34m=\u001b[0m\u001b[0mkeepdims\u001b[0m\u001b[0;34m)\u001b[0m\u001b[0;34m\u001b[0m\u001b[0;34m\u001b[0m\u001b[0m\n\u001b[1;32m    949\u001b[0m     \u001b[0mtot\u001b[0m \u001b[0;34m=\u001b[0m \u001b[0mnp\u001b[0m\u001b[0;34m.\u001b[0m\u001b[0msum\u001b[0m\u001b[0;34m(\u001b[0m\u001b[0marr\u001b[0m\u001b[0;34m,\u001b[0m \u001b[0maxis\u001b[0m\u001b[0;34m=\u001b[0m\u001b[0maxis\u001b[0m\u001b[0;34m,\u001b[0m \u001b[0mdtype\u001b[0m\u001b[0;34m=\u001b[0m\u001b[0mdtype\u001b[0m\u001b[0;34m,\u001b[0m \u001b[0mout\u001b[0m\u001b[0;34m=\u001b[0m\u001b[0mout\u001b[0m\u001b[0;34m,\u001b[0m \u001b[0mkeepdims\u001b[0m\u001b[0;34m=\u001b[0m\u001b[0mkeepdims\u001b[0m\u001b[0;34m)\u001b[0m\u001b[0;34m\u001b[0m\u001b[0;34m\u001b[0m\u001b[0m\n\u001b[0;32m--> 950\u001b[0;31m     \u001b[0mavg\u001b[0m \u001b[0;34m=\u001b[0m \u001b[0m_divide_by_count\u001b[0m\u001b[0;34m(\u001b[0m\u001b[0mtot\u001b[0m\u001b[0;34m,\u001b[0m \u001b[0mcnt\u001b[0m\u001b[0;34m,\u001b[0m \u001b[0mout\u001b[0m\u001b[0;34m=\u001b[0m\u001b[0mout\u001b[0m\u001b[0;34m)\u001b[0m\u001b[0;34m\u001b[0m\u001b[0;34m\u001b[0m\u001b[0m\n\u001b[0m\u001b[1;32m    951\u001b[0m \u001b[0;34m\u001b[0m\u001b[0m\n\u001b[1;32m    952\u001b[0m     \u001b[0misbad\u001b[0m \u001b[0;34m=\u001b[0m \u001b[0;34m(\u001b[0m\u001b[0mcnt\u001b[0m \u001b[0;34m==\u001b[0m \u001b[0;36m0\u001b[0m\u001b[0;34m)\u001b[0m\u001b[0;34m\u001b[0m\u001b[0;34m\u001b[0m\u001b[0m\n",
      "\u001b[0;32m~/opt/anaconda3/envs/pmp/lib/python3.9/site-packages/numpy/lib/nanfunctions.py\u001b[0m in \u001b[0;36m_divide_by_count\u001b[0;34m(a, b, out)\u001b[0m\n\u001b[1;32m    215\u001b[0m         \u001b[0;32melse\u001b[0m\u001b[0;34m:\u001b[0m\u001b[0;34m\u001b[0m\u001b[0;34m\u001b[0m\u001b[0m\n\u001b[1;32m    216\u001b[0m             \u001b[0;32mif\u001b[0m \u001b[0mout\u001b[0m \u001b[0;32mis\u001b[0m \u001b[0;32mNone\u001b[0m\u001b[0;34m:\u001b[0m\u001b[0;34m\u001b[0m\u001b[0;34m\u001b[0m\u001b[0m\n\u001b[0;32m--> 217\u001b[0;31m                 \u001b[0;32mreturn\u001b[0m \u001b[0ma\u001b[0m\u001b[0;34m.\u001b[0m\u001b[0mdtype\u001b[0m\u001b[0;34m.\u001b[0m\u001b[0mtype\u001b[0m\u001b[0;34m(\u001b[0m\u001b[0ma\u001b[0m \u001b[0;34m/\u001b[0m \u001b[0mb\u001b[0m\u001b[0;34m)\u001b[0m\u001b[0;34m\u001b[0m\u001b[0;34m\u001b[0m\u001b[0m\n\u001b[0m\u001b[1;32m    218\u001b[0m             \u001b[0;32melse\u001b[0m\u001b[0;34m:\u001b[0m\u001b[0;34m\u001b[0m\u001b[0;34m\u001b[0m\u001b[0m\n\u001b[1;32m    219\u001b[0m                 \u001b[0;31m# This is questionable, but currently a numpy scalar can\u001b[0m\u001b[0;34m\u001b[0m\u001b[0;34m\u001b[0m\u001b[0m\n",
      "\u001b[0;31mAttributeError\u001b[0m: 'float' object has no attribute 'dtype'"
     ]
    }
   ],
   "source": [
    "# create the rolling 3-year average of the core inflation\n",
    "\n",
    "# first I have to set up an empty dictionary to store the rolling averages\n",
    "cpiheadline_avg = {}\n",
    "for i in cpiheadline.columns:\n",
    "    cpiheadline_avg[i] = []\n",
    "\n",
    "# next up we iterate over the cpicore data to get the index and safe them in the dictionary\n",
    "runner = len(cpiheadline.index)\n",
    "for i in cpiheadline.index:\n",
    "    if runner == 35:\n",
    "        break\n",
    "    \n",
    "    for j,k in enumerate(cpiheadline.columns):\n",
    "        inflation = np.nanmean(eff_target_diff.iloc[runner-36:runner, j])\n",
    "        cpiheadline_avg[k].insert(0, inflation)\n",
    "    runner -= 1\n",
    "    \n",
    "#cpiheadline_avg\n",
    "cpiheadline_avg_trimmed = pd.DataFrame(cpiheadline_avg)"
   ]
  },
  {
   "cell_type": "code",
   "execution_count": null,
   "metadata": {},
   "outputs": [],
   "source": [
    "cpiheadline_avg_trimmed # until here I checked several times whether it is correct and it seems to work"
   ]
  },
  {
   "cell_type": "code",
   "execution_count": null,
   "metadata": {},
   "outputs": [
    {
     "name": "stderr",
     "output_type": "stream",
     "text": [
      "<ipython-input-5-90c02453a451>:21: FutureWarning: In a future version, `df.iloc[:, i] = newvals` will attempt to set the values inplace instead of always setting a new array. To retain the old behavior, use either `df[df.columns[i]] = newvals` or, if columns are non-unique, `df.isetitem(i, newvals)`\n",
      "  formula_values.iloc[:,j+i*5] = (1/m)*cpiheadline_trimmed[k] +((m-1)/m)*cpiheadline_avg_trimmed[k]\n"
     ]
    }
   ],
   "source": [
    "# now we calculate the value formula:\n",
    "# (1/n)*recent inflation + ((n-1)/n)*effective target inflation for the years: 2, 5, 10, 20, 30\n",
    "\n",
    "# first we need to align the dataframes \n",
    "cpiheadline_trimmed = cpiheadline[35:]\n",
    "cpiheadline_avg_trimmed.set_index(cpiheadline_trimmed.index, inplace = True)\n",
    "\n",
    "# second we create an empty dictionary to fill with the calculations\n",
    "formula_values = {}\n",
    "x = 0\n",
    "for i in cpiheadline_trimmed.columns:\n",
    "    x += 1\n",
    "    for j in [2,5,10,20,30]:\n",
    "        formula_values[f\"{i},{j}\"] = []\n",
    "formula_values = pd.DataFrame(columns = formula_values.keys(), index = cpiheadline_trimmed.index)\n",
    "\n",
    "\n",
    "# now that we have the empty dictionary to fill, we start with caluclating the inflation expectation\n",
    "for i,k in enumerate (cpiheadline_trimmed.columns):\n",
    "    for j,m in enumerate([2,5,10,20,30]):\n",
    "        formula_values.iloc[:,j+i*5] = (1/m)*cpiheadline_trimmed[k] +((m-1)/m)*cpiheadline_avg_trimmed[k]\n",
    "        \n",
    "#formula_values"
   ]
  },
  {
   "cell_type": "code",
   "execution_count": null,
   "metadata": {},
   "outputs": [],
   "source": [
    "# now we need to align the NA's from the ETF with the NA's from the Yields such that we don't get a weight for a date that\n",
    "# we don't have return data for\n",
    "\n",
    "Yield_na = Yield_long.copy()\n",
    "ETF_na = ETF.pct_change().isna()\n",
    "ETF_na\n",
    "runner = 0\n",
    "counter = 0\n",
    "for i,k in enumerate(Yield_na.columns):\n",
    "    if counter == 5:\n",
    "        counter = 0\n",
    "        runner += 1\n",
    "    tmp = ETF_na.iloc[:,runner]\n",
    "    Yield_na.iloc[tmp,i] = np.nan\n",
    "    counter +=1\n",
    "Yield_na\n",
    "\n",
    "\n",
    "# now we have the issue that the Yield_clean data and the Inflation_clean data doesn't have the same sequence of countries\n",
    "# to avoid this we resort the Yield_clean data to fit the Inflation_clean data\n",
    "\n",
    "clean_names = [\"Germany\", \"France\",\"Spain\",\"Italy\",\"United Kingdom\", \"Switzerland\", \"China\", \"Australia\", \"Japan\", \"USA\", \"Canada\", \"Singapore\", \"India\"]\n",
    "\n",
    "# we split the dataframe into the different countries...\n",
    "Germany = Yield_na.iloc[:,:5]\n",
    "France = Yield_na.iloc[:,5:10]\n",
    "Spain = Yield_na.iloc[:,10:15]\n",
    "Italy = Yield_na.iloc[:,15:20]\n",
    "UK = Yield_na.iloc[:,20:25]\n",
    "Switzerland = Yield_na.iloc[:,25:30]\n",
    "China = Yield_na.iloc[:,30:35]\n",
    "Australia = Yield_na.iloc[:,35:40]\n",
    "Japan = Yield_na.iloc[:,40:45]\n",
    "USA = Yield_na.iloc[:,45:50]\n",
    "Canada = Yield_na.iloc[:,50:55]\n",
    "Singapore = Yield_na.iloc[:,55:60]\n",
    "India = Yield_na.iloc[:,60:]\n",
    "\n",
    "# ... and fusion them together to have the same order as the Inflation data (plus dividing by 100 to have same level as Inflation)\n",
    "Yields_aligned = [India, Singapore, Canada, USA, Japan, Australia, China, Switzerland, UK, Spain, France, Germany, Italy]\n",
    "Yields_aligned = pd.concat(Yields_aligned, axis=1)\n",
    "Yields_aligned = Yields_aligned /100\n",
    "#Yields_aligned"
   ]
  },
  {
   "cell_type": "code",
   "execution_count": null,
   "metadata": {},
   "outputs": [],
   "source": [
    "# in a next step we adjust the yield data to have the same lookback as the other data\n",
    "\n",
    "Yield_trimmed = Yields_aligned[35:]\n",
    "\n",
    "Real_yield = pd.DataFrame(0, columns = formula_values.columns, index = formula_values.index)\n",
    "\n",
    "# now we take the difference between yield etf and inflation\n",
    "for i,k in enumerate(formula_values.columns):\n",
    "    for j,l in enumerate(formula_values.index):\n",
    "        Real_yield.iloc[j,i] = Yield_trimmed.iloc[j,i] - formula_values.iloc[j,i]\n",
    "#Real_yield"
   ]
  },
  {
   "cell_type": "code",
   "execution_count": null,
   "metadata": {},
   "outputs": [
    {
     "name": "stderr",
     "output_type": "stream",
     "text": [
      "<ipython-input-8-1ebfb3f6f625>:7: RuntimeWarning: Mean of empty slice\n",
      "  temp = pd.DataFrame(np.nanmean([Real_yield.iloc[:,i],Real_yield.iloc[:,i+1],Real_yield.iloc[:,i+2],Real_yield.iloc[:,i+3],Real_yield.iloc[:,i+4]], axis = 0))\n",
      "<ipython-input-8-1ebfb3f6f625>:8: FutureWarning: In a future version, `df.iloc[:, i] = newvals` will attempt to set the values inplace instead of always setting a new array. To retain the old behavior, use either `df[df.columns[i]] = newvals` or, if columns are non-unique, `df.isetitem(i, newvals)`\n",
      "  Real_yield_avg.iloc[:,runner] = temp.values\n",
      "<ipython-input-8-1ebfb3f6f625>:7: RuntimeWarning: Mean of empty slice\n",
      "  temp = pd.DataFrame(np.nanmean([Real_yield.iloc[:,i],Real_yield.iloc[:,i+1],Real_yield.iloc[:,i+2],Real_yield.iloc[:,i+3],Real_yield.iloc[:,i+4]], axis = 0))\n"
     ]
    }
   ],
   "source": [
    "# in a final step we will average over the duration of the countries to get one average for each country\n",
    "\n",
    "Real_yield_avg = pd.DataFrame(columns = cpiheadline_avg_trimmed.columns, index = Real_yield.index)\n",
    "\n",
    "runner = 0\n",
    "for i in range(0, len(Yields_aligned.columns)-1, 5):\n",
    "    temp = pd.DataFrame(np.nanmean([Real_yield.iloc[:,i],Real_yield.iloc[:,i+1],Real_yield.iloc[:,i+2],Real_yield.iloc[:,i+3],Real_yield.iloc[:,i+4]], axis = 0))\n",
    "    Real_yield_avg.iloc[:,runner] = temp.values\n",
    "    runner +=1\n",
    "    \n",
    "#Real_yield_avg"
   ]
  },
  {
   "cell_type": "markdown",
   "metadata": {},
   "source": [
    "# Momentum"
   ]
  },
  {
   "cell_type": "code",
   "execution_count": null,
   "metadata": {},
   "outputs": [],
   "source": [
    "# Create Monthly Returns out of ETF Prices\n",
    "ETF_price = ETF.copy()\n",
    "ETF_returns = ETF_price.pct_change()\n",
    "ETF_ret = ETF_returns.tail(-1)\n",
    "rf = Yield_short.iloc[:,0] / 100"
   ]
  },
  {
   "attachments": {},
   "cell_type": "markdown",
   "metadata": {},
   "source": [
    "## Weights Momentum"
   ]
  },
  {
   "cell_type": "code",
   "execution_count": null,
   "metadata": {},
   "outputs": [],
   "source": [
    "# Create Weights for Momentum\n",
    "\n",
    "# Prep Work\n",
    "nAssets = len(ETF_price.columns) # 13 Countries\n",
    "nMonths = len(ETF_price) # 280 Months of prices (31.12.1999 - 31.03.2023)\n",
    "lookbackStart = 12\n",
    "lookbackEnd = 1\n",
    "firstMonth = lookbackStart + 1 # we can only start computing weights in 13.month bc we have 12 months lookback \n",
    "nLongs = 5\n",
    "nShorts = 5\n",
    "momLongWeights = pd.DataFrame(np.zeros((nMonths, nAssets)))\n",
    "momLSWeights = pd.DataFrame(np.zeros((nMonths, nAssets)))\n",
    "long_weight = np.divide(1,nLongs)\n",
    "short_weight = np.divide(1,nShorts)*(-1)\n",
    "\n",
    " # Loop to get the Long weights and the Long/Short Weights\n",
    "for month in range(firstMonth, nMonths):\n",
    "     pastReturns = pd.DataFrame(np.divide(ETF_price.iloc[month - lookbackEnd, :], ETF_price.iloc[month - lookbackStart, :]) - 1)\n",
    "     highReturns = pastReturns.nlargest(nLongs,columns=pastReturns.columns)\n",
    "     lowReturns = pastReturns.nsmallest(nShorts,columns=pastReturns.columns)\n",
    "     low_index = lowReturns.index\n",
    "     high_index = highReturns.index\n",
    "     pRet_index = pastReturns.index\n",
    "\n",
    "     high_index_numbers = pRet_index.get_indexer(high_index)\n",
    "     low_index_numbers = pRet_index.get_indexer(low_index)\n",
    "     # Long Weights only\n",
    "     momLongWeights.iloc[month,high_index_numbers] = long_weight\n",
    "     # Long/Short Weights only\n",
    "     momLSWeights.iloc[month,high_index_numbers] = long_weight\n",
    "     momLSWeights.iloc[month,low_index_numbers] = short_weight\n",
    "\n",
    "# Set Index and Column Names again\n",
    "momLongWeights = momLongWeights.set_index(ETF_price.index).copy()\n",
    "momLongWeights.columns = ETF_price.columns\n",
    "momLSWeights = momLSWeights.set_index(ETF_price.index).copy()\n",
    "momLSWeights.columns = ETF_price.columns"
   ]
  },
  {
   "cell_type": "code",
   "execution_count": null,
   "metadata": {},
   "outputs": [],
   "source": [
    "# Data Cleanup -> Returns in sync with weights!\n",
    "momLongWeights_cut = momLongWeights.iloc[firstMonth:, :] # cut out first 13 months -> first row now is weight calculated at 31.01.2000; keep extra row at end for Turnover\n",
    "momLSWeights_cut = momLSWeights.iloc[firstMonth:, :] # cut out first 13 months -> first row now is weight calculated at 31.01.2000; keep extra row at end for Turnover\n",
    "ETF_ret_cut = ETF_ret.iloc[firstMonth :, :] #we need Returns from 28.02.2000\n",
    "rf_cut_mom = rf.iloc[firstMonth+1:]\n",
    "dates4Fig = ETF_ret_cut.index\n",
    "nMonths_actual = nMonths - (firstMonth+1)"
   ]
  },
  {
   "cell_type": "code",
   "execution_count": null,
   "metadata": {},
   "outputs": [
    {
     "name": "stderr",
     "output_type": "stream",
     "text": [
      "/var/folders/p7/g7d04mzx5wn88jp9x3dzpb9w0000gn/T/ipykernel_41276/1728815470.py:3: FutureWarning: Calling a ufunc on non-aligned DataFrames (or DataFrame/Series combination). Currently, the indices are ignored and the result takes the index/columns of the first DataFrame. In the future , the DataFrames/Series will be aligned before applying the ufunc.\n",
      "Convert one of the arguments to a NumPy array (eg 'ufunc(df1, np.asarray(df2)') to keep the current behaviour, or align manually (eg 'df1, df2 = df1.align(df2)') before passing to the ufunc to obtain the future behaviour and silence this warning.\n",
      "  LongStratRet = np.sum(np.multiply(ETF_ret_cut, momLongWeights_cut.iloc[ : -1, :]), axis=1)\n",
      "/var/folders/p7/g7d04mzx5wn88jp9x3dzpb9w0000gn/T/ipykernel_41276/1728815470.py:4: FutureWarning: Calling a ufunc on non-aligned DataFrames (or DataFrame/Series combination). Currently, the indices are ignored and the result takes the index/columns of the first DataFrame. In the future , the DataFrames/Series will be aligned before applying the ufunc.\n",
      "Convert one of the arguments to a NumPy array (eg 'ufunc(df1, np.asarray(df2)') to keep the current behaviour, or align manually (eg 'df1, df2 = df1.align(df2)') before passing to the ufunc to obtain the future behaviour and silence this warning.\n",
      "  LSStratRet = np.sum(np.multiply(ETF_ret_cut, momLSWeights_cut.iloc[ : -1, :]), axis=1) + rf_cut_mom\n"
     ]
    }
   ],
   "source": [
    "# Calculate Strategy Returns with No Transaction Cost\n",
    "# note we only take weights rows until end -1 bc we left one to much in\n",
    "LongStratRet = np.sum(np.multiply(ETF_ret_cut, momLongWeights_cut.iloc[ : -1, :]), axis=1)\n",
    "LSStratRet = np.sum(np.multiply(ETF_ret_cut, momLSWeights_cut.iloc[ : -1, :]), axis=1) + rf_cut_mom\n",
    "stratReturnsNoTC = pd.concat([LongStratRet,LSStratRet], axis=1)\n",
    "stratReturnsNoTC = stratReturnsNoTC.set_axis(['Long_Mom_NoTC','LS_Mom_NoTC'], axis=1)"
   ]
  },
  {
   "attachments": {},
   "cell_type": "markdown",
   "metadata": {},
   "source": [
    "## Turnover Momentum"
   ]
  },
  {
   "cell_type": "code",
   "execution_count": null,
   "metadata": {},
   "outputs": [
    {
     "name": "stdout",
     "output_type": "stream",
     "text": [
      "Avg Turnover of LongMom is: 0.30282071674871947\n",
      "Avg Turnover of LSMom is: 0.6268675075436647\n"
     ]
    }
   ],
   "source": [
    "## Compute Turnover for Momentum\n",
    "turnover_mom = np.zeros((nMonths_actual, 2))\n",
    "stratReturnsTC = np.zeros((nMonths_actual, 2))\n",
    "\n",
    "for month in range(0, nMonths_actual):\n",
    "    currentRf = rf_cut_mom.iloc[month]\n",
    "    currentRet = ETF_ret_cut.iloc[month, :]\n",
    "    turnover_mom[month, 0] = computeTurnover(momLongWeights_cut.iloc[month, :], momLongWeights_cut.iloc[month + 1, :], currentRet, currentRf)[0]\n",
    "    turnover_mom[month, 1] = computeTurnover(momLSWeights_cut.iloc[month, :], momLSWeights_cut.iloc[month + 1, :], currentRet, currentRf)[0]\n",
    "    #print(\"Current value of month is:\", month)\n",
    "\n",
    "avgTurnover_Longmom = np.mean(turnover_mom[:,0])\n",
    "avgTurnover_LSmom = np.mean(turnover_mom[:,1])\n",
    "print(\"Avg Turnover of LongMom is:\", avgTurnover_Longmom)\n",
    "print(\"Avg Turnover of LSMom is:\", avgTurnover_LSmom)\n",
    "\n",
    "stratReturnsTC = stratReturnsNoTC - (tCost * turnover_mom)\n",
    "stratReturnsTC = stratReturnsTC.set_axis(['Long_Mom_TC','LS_Mom_TC'], axis=1)"
   ]
  },
  {
   "attachments": {},
   "cell_type": "markdown",
   "metadata": {},
   "source": [
    "## Summary Statistics Momentum"
   ]
  },
  {
   "cell_type": "code",
   "execution_count": null,
   "metadata": {},
   "outputs": [
    {
     "name": "stderr",
     "output_type": "stream",
     "text": [
      "/var/folders/p7/g7d04mzx5wn88jp9x3dzpb9w0000gn/T/ipykernel_41276/1414548367.py:8: FutureWarning: Calling a ufunc on non-aligned DataFrames (or DataFrame/Series combination). Currently, the indices are ignored and the result takes the index/columns of the first DataFrame. In the future , the DataFrames/Series will be aligned before applying the ufunc.\n",
      "Convert one of the arguments to a NumPy array (eg 'ufunc(df1, np.asarray(df2)') to keep the current behaviour, or align manually (eg 'df1, df2 = df1.align(df2)') before passing to the ufunc to obtain the future behaviour and silence this warning.\n",
      "  allXsReturns_mom = np.subtract(allTotalReturns_mom , rf_cut_mom_matrix)\n"
     ]
    }
   ],
   "source": [
    "# Get Summary Statistics\n",
    "# Prep Work\n",
    "annualizationFactor = 12\n",
    "# All Total Returns\n",
    "allTotalReturns_mom = pd.concat([stratReturnsNoTC,stratReturnsTC], axis=1)\n",
    "# All Excess Returns\n",
    "rf_cut_mom_matrix = pd.concat([rf_cut_mom,rf_cut_mom,rf_cut_mom,rf_cut_mom], axis=1)\n",
    "allXsReturns_mom = np.subtract(allTotalReturns_mom , rf_cut_mom_matrix)\n",
    "\n",
    "summarize_performance2(allXsReturns_mom, rf_cut_mom, allXsReturns_mom.iloc[:,0], annualizationFactor, 'Long_Mom_NoTC, LS_Mom_NoTC, Long_Mom_TC, LS_Mom_TC')\n",
    "\n"
   ]
  },
  {
   "attachments": {},
   "cell_type": "markdown",
   "metadata": {},
   "source": [
    "## Plot Momentum"
   ]
  },
  {
   "cell_type": "code",
   "execution_count": null,
   "metadata": {},
   "outputs": [
    {
     "data": {
      "image/png": "[encoded data removed]",
      "text/plain": [
       "<Figure size 1600x800 with 1 Axes>"
      ]
     },
     "metadata": {},
     "output_type": "display_data"
    }
   ],
   "source": [
    "# Plot Strategy Performances\n",
    "strategyNAV_mom = np.cumprod(1 + allTotalReturns_mom)\n",
    "# Create the line plot\n",
    "plt.plot(dates4Fig, strategyNAV_mom.iloc[:,1], label='LS_Mom_NoTC', linestyle='dashdot',color=\"red\")\n",
    "plt.plot(dates4Fig, strategyNAV_mom.iloc[:,3], label='LS_Mom_TC',color=\"red\")\n",
    "plt.plot(dates4Fig, strategyNAV_mom.iloc[:,0], label='Long_Mom_NoTC', linestyle='dashdot',color=\"blue\")\n",
    "plt.plot(dates4Fig, strategyNAV_mom.iloc[:,2], label='Long_Mom_TC',color=\"blue\")\n",
    "\n",
    "# Set the x and y axis labels and legend\n",
    "plt.xlabel('Time')\n",
    "plt.ylabel('Portfolio Value')\n",
    "plt.legend()\n",
    "\n",
    "# Show the plot\n",
    "plt.show()"
   ]
  },
  {
   "cell_type": "code",
   "execution_count": null,
   "metadata": {},
   "outputs": [
    {
     "name": "stdout",
     "output_type": "stream",
     "text": [
      "Performance Statistics for Long_Mom_NoTC, LS_Mom_NoTC, Long_Mom_TC, LS_Mom_TC\n",
      "ArithmAvgTotalReturn: Long_Mom_NoTC     4.400238\n",
      "LS_Mom_NoTC      13.235228\n",
      "Long_Mom_TC       2.583314\n",
      "LS_Mom_TC         9.474023\n",
      "dtype: float64\n",
      "ArithmAvgXsReturn: Long_Mom_NoTC   -7.163747\n",
      "LS_Mom_NoTC      1.671243\n",
      "Long_Mom_TC     -8.980671\n",
      "LS_Mom_TC       -2.089962\n",
      "dtype: float64\n",
      "StdXsReturns: Long_Mom_NoTC    6.662062\n",
      "LS_Mom_NoTC      2.959029\n",
      "Long_Mom_TC      6.614448\n",
      "LS_Mom_TC        2.999575\n",
      "dtype: float64\n",
      "SharpeArithmetic: Long_Mom_NoTC   -1.075305\n",
      "LS_Mom_NoTC      0.564794\n",
      "Long_Mom_TC     -1.357735\n",
      "LS_Mom_TC       -0.696753\n",
      "dtype: float64\n",
      "GeomAvgTotalReturn: Long_Mom_NoTC     4.423138\n",
      "LS_Mom_NoTC      13.849815\n",
      "Long_Mom_TC       2.548494\n",
      "LS_Mom_TC         9.678639\n",
      "dtype: float64\n",
      "GeomAvgXsReturn: Long_Mom_NoTC   -7.587497\n",
      "LS_Mom_NoTC      1.839180\n",
      "Long_Mom_TC     -9.462141\n",
      "LS_Mom_TC       -2.331997\n",
      "dtype: float64\n",
      "SharpeGeometric: Long_Mom_NoTC   -1.138911\n",
      "LS_Mom_NoTC      0.621549\n",
      "Long_Mom_TC     -1.430526\n",
      "LS_Mom_TC       -0.777442\n",
      "dtype: float64\n",
      "MinXsReturn: Long_Mom_NoTC   -5.852127\n",
      "LS_Mom_NoTC     -2.230032\n",
      "Long_Mom_TC     -6.253851\n",
      "LS_Mom_TC       -2.860983\n",
      "dtype: float64\n",
      "MaxXsReturn: Long_Mom_NoTC    3.308340\n",
      "LS_Mom_NoTC      4.190397\n",
      "Long_Mom_TC      3.105489\n",
      "LS_Mom_TC        3.761863\n",
      "dtype: float64\n"
     ]
    },
    {
     "name": "stderr",
     "output_type": "stream",
     "text": [
      "/Users/thomas/opt/anaconda3/envs/pmp/lib/python3.9/site-packages/numpy/core/fromnumeric.py:3438: FutureWarning: In a future version, DataFrame.mean(axis=None) will return a scalar mean over the entire DataFrame. To retain the old behavior, use 'frame.mean(axis=0)' or just 'frame.mean()'\n",
      "  return mean(axis=axis, dtype=dtype, out=out, **kwargs)\n"
     ]
    }
   ],
   "source": [
    "summarize_performance2(allXsReturns_mom, rf_cut_mom, allXsReturns_mom.iloc[:,0], annualizationFactor, 'Long_Mom_NoTC, LS_Mom_NoTC, Long_Mom_TC, LS_Mom_TC')\n"
   ]
  },
  {
   "cell_type": "code",
   "execution_count": null,
   "metadata": {},
   "outputs": [],
   "source": []
  },
  {
   "cell_type": "code",
   "execution_count": null,
   "metadata": {},
   "outputs": [],
   "source": []
  },
  {
   "cell_type": "markdown",
   "metadata": {},
   "source": [
    "# Carry"
   ]
  },
  {
   "cell_type": "code",
   "execution_count": 253,
   "metadata": {},
   "outputs": [
    {
     "ename": "NameError",
     "evalue": "name 'Yield_na' is not defined",
     "output_type": "error",
     "traceback": [
      "\u001b[0;31m---------------------------------------------------------------------------\u001b[0m",
      "\u001b[0;31mNameError\u001b[0m                                 Traceback (most recent call last)",
      "\u001b[0;32m/var/folders/p7/g7d04mzx5wn88jp9x3dzpb9w0000gn/T/ipykernel_41276/3214740762.py\u001b[0m in \u001b[0;36m<module>\u001b[0;34m\u001b[0m\n\u001b[1;32m     12\u001b[0m         \u001b[0mrunner\u001b[0m \u001b[0;34m+=\u001b[0m \u001b[0;36m1\u001b[0m\u001b[0;34m\u001b[0m\u001b[0;34m\u001b[0m\u001b[0m\n\u001b[1;32m     13\u001b[0m         \u001b[0mcounter\u001b[0m \u001b[0;34m=\u001b[0m \u001b[0;36m0\u001b[0m\u001b[0;34m\u001b[0m\u001b[0;34m\u001b[0m\u001b[0m\n\u001b[0;32m---> 14\u001b[0;31m     \u001b[0mCarry_3m\u001b[0m\u001b[0;34m.\u001b[0m\u001b[0miloc\u001b[0m\u001b[0;34m[\u001b[0m\u001b[0;34m:\u001b[0m\u001b[0;34m,\u001b[0m\u001b[0mi\u001b[0m\u001b[0;34m]\u001b[0m \u001b[0;34m=\u001b[0m \u001b[0mYield_na\u001b[0m\u001b[0;34m.\u001b[0m\u001b[0miloc\u001b[0m\u001b[0;34m[\u001b[0m\u001b[0;34m:\u001b[0m\u001b[0;34m,\u001b[0m\u001b[0mi\u001b[0m\u001b[0;34m]\u001b[0m \u001b[0;34m-\u001b[0m \u001b[0mYield_short\u001b[0m\u001b[0;34m.\u001b[0m\u001b[0miloc\u001b[0m\u001b[0;34m[\u001b[0m\u001b[0;34m:\u001b[0m\u001b[0;34m,\u001b[0m\u001b[0mrunner\u001b[0m\u001b[0;34m]\u001b[0m\u001b[0;34m\u001b[0m\u001b[0;34m\u001b[0m\u001b[0m\n\u001b[0m\u001b[1;32m     15\u001b[0m     \u001b[0mcounter\u001b[0m \u001b[0;34m+=\u001b[0m \u001b[0;36m1\u001b[0m\u001b[0;34m\u001b[0m\u001b[0;34m\u001b[0m\u001b[0m\n\u001b[1;32m     16\u001b[0m \u001b[0;34m\u001b[0m\u001b[0m\n",
      "\u001b[0;31mNameError\u001b[0m: name 'Yield_na' is not defined"
     ]
    }
   ],
   "source": [
    "# for carry we will now calculate the differences between the long-term yields (2,5,10,20,30) and short-term yields (1M, 3M)\n",
    "# we will create a dataframe for the 1M and the 3M\n",
    "# I take the Yield_na for the calculation to get the same NA's as the ETF has\n",
    "\n",
    "Carry_3m = pd.DataFrame(columns = Yield_long.columns, index = Yield_long.index)\n",
    "avg_Carry_3m = pd.DataFrame(0, columns = Yield_short.columns, index = Yield_short.index)\n",
    "\n",
    "runner = 0\n",
    "counter = 0\n",
    "for i in range(0,len(Yield_long.columns)):\n",
    "    if counter == 5:\n",
    "        runner += 1\n",
    "        counter = 0\n",
    "    Carry_3m.iloc[:,i] = Yield_na.iloc[:,i] - Yield_short.iloc[:,runner]\n",
    "    counter += 1\n",
    "    \n",
    "for i in range(0,len(Yield_short.columns)):\n",
    "    avg_Carry_3m.iloc[:,i] = np.nanmean([Carry_3m.iloc[:,i*5], Carry_3m.iloc[:,i*5+1], Carry_3m.iloc[:,i*5+2], Carry_3m.iloc[:,i*5+3], Carry_3m.iloc[:,i*5+4]], axis = 0)\n",
    "\n",
    "avg_Carry_3m = avg_Carry_3m / 100"
   ]
  },
  {
   "cell_type": "markdown",
   "metadata": {},
   "source": [
    "# Sort function to create the buckets"
   ]
  },
  {
   "cell_type": "code",
   "execution_count": null,
   "metadata": {},
   "outputs": [],
   "source": [
    "def pmp_Sort(sort_variable, n_longs, n_shorts, long_high_values=1, equal_weights_ls=False):\n",
    "    \"\"\"\n",
    "    Generates portfolio weights based on sort_variable. The function ignores assets for which the sort variable is\n",
    "    missing (NaN). All such assets get a weight of zero in the portfolio. n_longs and n_shorts denote the number of\n",
    "    assets held long and short. When long_high_values is True, assets that have the highest values for sort_variable\n",
    "    are held long and those with the lowest values are held short. Otherwise, the opposite holds.\n",
    "    \"\"\"\n",
    "    # Find the assets with the highest and lowest values of the sort variable\n",
    "    if long_high_values:\n",
    "        sort_variable_sorted = sort_variable  # For long high values, sort descending\n",
    "    else:\n",
    "        sort_variable_sorted = -sort_variable   # For long low values, sort ascending\n",
    "    non_nan_assets = ~np.isnan(sort_variable_sorted)\n",
    "    non_nan_count = np.count_nonzero(non_nan_assets)\n",
    "    \n",
    "    # Check if n_shorts is zero\n",
    "    if n_shorts == 0:\n",
    "        tmp_long = list(sort_variable_sorted)\n",
    "        tmp_long = [-10000000 if pd.isna(x) else x for x in tmp_long]\n",
    "        list_of_longs = np.argsort(tmp_long)[-5:]\n",
    "        \n",
    "        weights = np.zeros(len(sort_variable))\n",
    "        weights[list_of_longs] = 1 / n_longs\n",
    "        return weights\n",
    "\n",
    "    # If n_shorts is not zero, handle normally\n",
    "    if non_nan_count < n_longs:\n",
    "        n_longs = non_nan_count\n",
    "        n_shorts = 0\n",
    "    elif n_shorts > 0 and non_nan_count < n_longs + n_shorts:\n",
    "        n_shorts = non_nan_count - n_longs\n",
    "        \n",
    "    if equal_weights_ls == True:\n",
    "        n_shorts = non_nan_count // 2\n",
    "        n_longs = non_nan_count // 2\n",
    "        \n",
    "    \n",
    "\n",
    "    tmp_long = list(sort_variable_sorted)\n",
    "    tmp_long = [-10000000 if pd.isna(x) else x for x in tmp_long]\n",
    "    list_of_longs = np.argsort(tmp_long)[-5:]\n",
    "        \n",
    "    tmp_short = list(sort_variable_sorted)\n",
    "    tmp_short = [100000000 if pd.isna(x) else x for x in tmp_short]\n",
    "    list_of_shorts = np.argsort(tmp_short)[:5]\n",
    "    \n",
    "\n",
    "    # Assign the weights to assets in the list of longs and shorts\n",
    "    n_assets = len(sort_variable)\n",
    "    weights = np.zeros(n_assets)\n",
    "    weights[list_of_longs] = 1 / n_longs\n",
    "    weights[list_of_shorts] = -1 / n_shorts\n",
    "\n",
    "    return weights\n"
   ]
  },
  {
   "cell_type": "code",
   "execution_count": null,
   "metadata": {},
   "outputs": [
    {
     "name": "stderr",
     "output_type": "stream",
     "text": [
      "<ipython-input-27-59ec5279197b>:11: SettingWithCopyWarning: \n",
      "A value is trying to be set on a copy of a slice from a DataFrame\n",
      "\n",
      "See the caveats in the documentation: https://pandas.pydata.org/pandas-docs/stable/user_guide/indexing.html#returning-a-view-versus-a-copy\n",
      "  ETF_value.rename(columns = {\"Swiss comb\": \"Switzerland\"}, inplace=True)\n"
     ]
    }
   ],
   "source": [
    "# Value\n",
    "weights = pd.DataFrame(columns = Real_yield_avg.columns, index = Real_yield_avg.index)\n",
    "\n",
    "for i,k in enumerate(Real_yield_avg.index):\n",
    "    temp = pmp_Sort(Real_yield_avg.iloc[i,:], 5,5)\n",
    "    weights.iloc[i,:] = temp\n",
    "    \n",
    "# now we need to align the columns of weights to columns of returns\n",
    "ETF_returns = ETF.pct_change()\n",
    "ETF_value = ETF_returns.iloc[35:,:]\n",
    "ETF_value.rename(columns = {\"Swiss comb\": \"Switzerland\"}, inplace=True)\n",
    "\n",
    "Value_weights = pd.DataFrame(columns = ETF_value.columns, index = ETF_value.index)\n",
    "weights.set_index(ETF_value.index, inplace=True)\n",
    "for i in ETF_value.columns:\n",
    "    Value_weights.loc[:,i] = weights.loc[:,i]\n",
    "\n",
    "#Value_weights"
   ]
  },
  {
   "cell_type": "code",
   "execution_count": null,
   "metadata": {},
   "outputs": [],
   "source": [
    "# Momentum"
   ]
  },
  {
   "cell_type": "code",
   "execution_count": null,
   "metadata": {},
   "outputs": [],
   "source": [
    "# Carry\n",
    "Carry_weights = pd.DataFrame(columns = avg_Carry_3m.columns, index = avg_Carry_3m.index)\n",
    "\n",
    "for i,k in enumerate(avg_Carry_3m.index):\n",
    "    if i == 0:\n",
    "        continue\n",
    "    temp = pmp_Sort(avg_Carry_3m.iloc[i,:], 5, 5)\n",
    "    Carry_weights.iloc[i,:] = temp\n",
    "\n",
    "#Carry_weights"
   ]
  },
  {
   "cell_type": "markdown",
   "metadata": {},
   "source": [
    "# PF weights (not yet working)"
   ]
  },
  {
   "cell_type": "code",
   "execution_count": null,
   "metadata": {},
   "outputs": [],
   "source": [
    "# in the following we will combine the weight matrices that we've gathered sofar into two distinct weight matrices for the PF\n",
    "# the PF_weight_score will be a number between -3 and 3 indicating the signals suggesting the country\n",
    "# the PF_weight will just be the sum of the weights\n",
    "\n",
    "PF_weights = Value_weights + Carry_weights\n",
    "\n",
    "# now we will create the scored weights\n",
    "PF_score = pd.DataFrame(columns = Value_weights.columns, index = Value_weights.index)\n",
    "PF_weights_score = pd.DataFrame(columns = Value_weights.columns, index = Value_weights.index)\n",
    "\n",
    "value_pos = Value_weights > 0\n",
    "value_neg = Value_weights < 0\n",
    "carry_pos = Carry_weights > 0\n",
    "carry_neg = Carry_weights < 0\n",
    "\n",
    "PF_score[value_pos] = 1\n",
    "PF_score[value_neg] = -1\n",
    "PF_score[carry_pos] += 1\n",
    "PF_score[carry_neg] -= 1\n",
    "\n",
    "# print(PF_weights)\n",
    "# print(PF_weights_score)\n",
    "\n",
    "# now we will create the weights for the PF_weights_score\n",
    "x = PF_score > 0\n",
    "y = PF_score < 0\n",
    "PF_pos = PF_score[x]\n",
    "PF_neg = PF_score[y]\n",
    "\n",
    "for i,k in enumerate(PF_pos.index):\n",
    "    pos = sum(PF_pos.iloc[i,:]>0)\n",
    "    if pos == 0:\n",
    "        continue\n",
    "    pos = 1/pos\n",
    "    \n",
    "    neg = sum(PF_score.iloc[i,:]<0)\n",
    "    if neg == 0:\n",
    "        continue\n",
    "    neg = -1/neg\n",
    "    \n",
    "    PF_weights_score.iloc[i,:] = PF_pos.iloc[i,:] * pos\n",
    "    PF_weights_score.iloc[i,:] = PF_neg.iloc[i,:] * neg\n",
    "    \n",
    "    "
   ]
  },
  {
   "cell_type": "code",
   "execution_count": null,
   "metadata": {},
   "outputs": [
    {
     "data": {
      "text/html": [
       "<div>\n",
       "<style scoped>\n",
       "    .dataframe tbody tr th:only-of-type {\n",
       "        vertical-align: middle;\n",
       "    }\n",
       "\n",
       "    .dataframe tbody tr th {\n",
       "        vertical-align: top;\n",
       "    }\n",
       "\n",
       "    .dataframe thead th {\n",
       "        text-align: right;\n",
       "    }\n",
       "</style>\n",
       "<table border=\"1\" class=\"dataframe\">\n",
       "  <thead>\n",
       "    <tr style=\"text-align: right;\">\n",
       "      <th></th>\n",
       "      <th>Germany</th>\n",
       "      <th>France</th>\n",
       "      <th>Spain</th>\n",
       "      <th>Italy</th>\n",
       "      <th>UK</th>\n",
       "      <th>Switzerland</th>\n",
       "      <th>China</th>\n",
       "      <th>Australia</th>\n",
       "      <th>Japan</th>\n",
       "      <th>USA</th>\n",
       "      <th>Canada</th>\n",
       "      <th>Singapore</th>\n",
       "      <th>India</th>\n",
       "    </tr>\n",
       "    <tr>\n",
       "      <th>Datum</th>\n",
       "      <th></th>\n",
       "      <th></th>\n",
       "      <th></th>\n",
       "      <th></th>\n",
       "      <th></th>\n",
       "      <th></th>\n",
       "      <th></th>\n",
       "      <th></th>\n",
       "      <th></th>\n",
       "      <th></th>\n",
       "      <th></th>\n",
       "      <th></th>\n",
       "      <th></th>\n",
       "    </tr>\n",
       "  </thead>\n",
       "  <tbody>\n",
       "    <tr>\n",
       "      <th>2002-11-29</th>\n",
       "      <td>NaN</td>\n",
       "      <td>NaN</td>\n",
       "      <td>NaN</td>\n",
       "      <td>NaN</td>\n",
       "      <td>NaN</td>\n",
       "      <td>NaN</td>\n",
       "      <td>NaN</td>\n",
       "      <td>NaN</td>\n",
       "      <td>NaN</td>\n",
       "      <td>NaN</td>\n",
       "      <td>NaN</td>\n",
       "      <td>NaN</td>\n",
       "      <td>NaN</td>\n",
       "    </tr>\n",
       "    <tr>\n",
       "      <th>2002-12-31</th>\n",
       "      <td>NaN</td>\n",
       "      <td>NaN</td>\n",
       "      <td>NaN</td>\n",
       "      <td>NaN</td>\n",
       "      <td>NaN</td>\n",
       "      <td>NaN</td>\n",
       "      <td>NaN</td>\n",
       "      <td>NaN</td>\n",
       "      <td>NaN</td>\n",
       "      <td>NaN</td>\n",
       "      <td>NaN</td>\n",
       "      <td>NaN</td>\n",
       "      <td>NaN</td>\n",
       "    </tr>\n",
       "    <tr>\n",
       "      <th>2003-01-31</th>\n",
       "      <td>NaN</td>\n",
       "      <td>NaN</td>\n",
       "      <td>NaN</td>\n",
       "      <td>NaN</td>\n",
       "      <td>NaN</td>\n",
       "      <td>NaN</td>\n",
       "      <td>NaN</td>\n",
       "      <td>NaN</td>\n",
       "      <td>NaN</td>\n",
       "      <td>NaN</td>\n",
       "      <td>NaN</td>\n",
       "      <td>NaN</td>\n",
       "      <td>NaN</td>\n",
       "    </tr>\n",
       "    <tr>\n",
       "      <th>2003-02-28</th>\n",
       "      <td>NaN</td>\n",
       "      <td>NaN</td>\n",
       "      <td>NaN</td>\n",
       "      <td>NaN</td>\n",
       "      <td>NaN</td>\n",
       "      <td>NaN</td>\n",
       "      <td>NaN</td>\n",
       "      <td>NaN</td>\n",
       "      <td>NaN</td>\n",
       "      <td>NaN</td>\n",
       "      <td>NaN</td>\n",
       "      <td>NaN</td>\n",
       "      <td>NaN</td>\n",
       "    </tr>\n",
       "    <tr>\n",
       "      <th>2003-03-31</th>\n",
       "      <td>NaN</td>\n",
       "      <td>NaN</td>\n",
       "      <td>NaN</td>\n",
       "      <td>NaN</td>\n",
       "      <td>NaN</td>\n",
       "      <td>NaN</td>\n",
       "      <td>NaN</td>\n",
       "      <td>NaN</td>\n",
       "      <td>NaN</td>\n",
       "      <td>NaN</td>\n",
       "      <td>NaN</td>\n",
       "      <td>NaN</td>\n",
       "      <td>NaN</td>\n",
       "    </tr>\n",
       "    <tr>\n",
       "      <th>...</th>\n",
       "      <td>...</td>\n",
       "      <td>...</td>\n",
       "      <td>...</td>\n",
       "      <td>...</td>\n",
       "      <td>...</td>\n",
       "      <td>...</td>\n",
       "      <td>...</td>\n",
       "      <td>...</td>\n",
       "      <td>...</td>\n",
       "      <td>...</td>\n",
       "      <td>...</td>\n",
       "      <td>...</td>\n",
       "      <td>...</td>\n",
       "    </tr>\n",
       "    <tr>\n",
       "      <th>2022-11-30</th>\n",
       "      <td>0.666667</td>\n",
       "      <td>NaN</td>\n",
       "      <td>NaN</td>\n",
       "      <td>NaN</td>\n",
       "      <td>0.333333</td>\n",
       "      <td>0.666667</td>\n",
       "      <td>NaN</td>\n",
       "      <td>NaN</td>\n",
       "      <td>NaN</td>\n",
       "      <td>NaN</td>\n",
       "      <td>NaN</td>\n",
       "      <td>NaN</td>\n",
       "      <td>NaN</td>\n",
       "    </tr>\n",
       "    <tr>\n",
       "      <th>2022-12-30</th>\n",
       "      <td>0.666667</td>\n",
       "      <td>NaN</td>\n",
       "      <td>NaN</td>\n",
       "      <td>NaN</td>\n",
       "      <td>0.333333</td>\n",
       "      <td>0.666667</td>\n",
       "      <td>NaN</td>\n",
       "      <td>NaN</td>\n",
       "      <td>NaN</td>\n",
       "      <td>NaN</td>\n",
       "      <td>NaN</td>\n",
       "      <td>NaN</td>\n",
       "      <td>NaN</td>\n",
       "    </tr>\n",
       "    <tr>\n",
       "      <th>2023-01-31</th>\n",
       "      <td>0.666667</td>\n",
       "      <td>NaN</td>\n",
       "      <td>NaN</td>\n",
       "      <td>NaN</td>\n",
       "      <td>0.333333</td>\n",
       "      <td>0.666667</td>\n",
       "      <td>NaN</td>\n",
       "      <td>NaN</td>\n",
       "      <td>NaN</td>\n",
       "      <td>NaN</td>\n",
       "      <td>NaN</td>\n",
       "      <td>NaN</td>\n",
       "      <td>NaN</td>\n",
       "    </tr>\n",
       "    <tr>\n",
       "      <th>2023-02-28</th>\n",
       "      <td>0.666667</td>\n",
       "      <td>NaN</td>\n",
       "      <td>NaN</td>\n",
       "      <td>NaN</td>\n",
       "      <td>0.333333</td>\n",
       "      <td>0.666667</td>\n",
       "      <td>NaN</td>\n",
       "      <td>NaN</td>\n",
       "      <td>NaN</td>\n",
       "      <td>NaN</td>\n",
       "      <td>NaN</td>\n",
       "      <td>NaN</td>\n",
       "      <td>NaN</td>\n",
       "    </tr>\n",
       "    <tr>\n",
       "      <th>2023-03-31</th>\n",
       "      <td>0.666667</td>\n",
       "      <td>NaN</td>\n",
       "      <td>NaN</td>\n",
       "      <td>NaN</td>\n",
       "      <td>0.333333</td>\n",
       "      <td>0.666667</td>\n",
       "      <td>NaN</td>\n",
       "      <td>NaN</td>\n",
       "      <td>NaN</td>\n",
       "      <td>NaN</td>\n",
       "      <td>NaN</td>\n",
       "      <td>NaN</td>\n",
       "      <td>NaN</td>\n",
       "    </tr>\n",
       "  </tbody>\n",
       "</table>\n",
       "<p>245 rows × 13 columns</p>\n",
       "</div>"
      ],
      "text/plain": [
       "             Germany France Spain Italy        UK Switzerland China Australia  \\\n",
       "Datum                                                                           \n",
       "2002-11-29       NaN    NaN   NaN   NaN       NaN         NaN   NaN       NaN   \n",
       "2002-12-31       NaN    NaN   NaN   NaN       NaN         NaN   NaN       NaN   \n",
       "2003-01-31       NaN    NaN   NaN   NaN       NaN         NaN   NaN       NaN   \n",
       "2003-02-28       NaN    NaN   NaN   NaN       NaN         NaN   NaN       NaN   \n",
       "2003-03-31       NaN    NaN   NaN   NaN       NaN         NaN   NaN       NaN   \n",
       "...              ...    ...   ...   ...       ...         ...   ...       ...   \n",
       "2022-11-30  0.666667    NaN   NaN   NaN  0.333333    0.666667   NaN       NaN   \n",
       "2022-12-30  0.666667    NaN   NaN   NaN  0.333333    0.666667   NaN       NaN   \n",
       "2023-01-31  0.666667    NaN   NaN   NaN  0.333333    0.666667   NaN       NaN   \n",
       "2023-02-28  0.666667    NaN   NaN   NaN  0.333333    0.666667   NaN       NaN   \n",
       "2023-03-31  0.666667    NaN   NaN   NaN  0.333333    0.666667   NaN       NaN   \n",
       "\n",
       "           Japan  USA Canada Singapore India  \n",
       "Datum                                         \n",
       "2002-11-29   NaN  NaN    NaN       NaN   NaN  \n",
       "2002-12-31   NaN  NaN    NaN       NaN   NaN  \n",
       "2003-01-31   NaN  NaN    NaN       NaN   NaN  \n",
       "2003-02-28   NaN  NaN    NaN       NaN   NaN  \n",
       "2003-03-31   NaN  NaN    NaN       NaN   NaN  \n",
       "...          ...  ...    ...       ...   ...  \n",
       "2022-11-30   NaN  NaN    NaN       NaN   NaN  \n",
       "2022-12-30   NaN  NaN    NaN       NaN   NaN  \n",
       "2023-01-31   NaN  NaN    NaN       NaN   NaN  \n",
       "2023-02-28   NaN  NaN    NaN       NaN   NaN  \n",
       "2023-03-31   NaN  NaN    NaN       NaN   NaN  \n",
       "\n",
       "[245 rows x 13 columns]"
      ]
     },
     "execution_count": 103,
     "metadata": {},
     "output_type": "execute_result"
    }
   ],
   "source": [
    "PF_weights_score"
   ]
  },
  {
   "cell_type": "markdown",
   "metadata": {},
   "source": [
    "# Return calculation"
   ]
  },
  {
   "cell_type": "code",
   "execution_count": null,
   "metadata": {},
   "outputs": [],
   "source": [
    "# now that we have the weights of the different strategies and the returns of the ETF's we can calculate the returns\n",
    "\n",
    "# Value\n",
    "\n",
    "# first we need to align the length of the dataframes and the columns of the two dataframes to match each other\n",
    "Value_returns = Value_weights.mul(ETF_value)\n",
    "#Value_returns\n",
    "\n",
    "# Value_returns_2 = pd.DataFrame(columns = Value_weights.columns, index = ETF_value.index)\n",
    "# for i,k in enumerate(Value_weights.columns):\n",
    "#     Value_returns_2.iloc[:,i] = ETF_value.iloc[:,i] * Value_weights.iloc[:,i]\n",
    "# Value_returns_2.tail(10)"
   ]
  },
  {
   "cell_type": "code",
   "execution_count": null,
   "metadata": {},
   "outputs": [],
   "source": [
    "Carry_returns = Carry_weights.mul(ETF_returns)\n",
    "#Carry_returns"
   ]
  },
  {
   "cell_type": "markdown",
   "metadata": {},
   "source": [
    "# Transaction cost"
   ]
  },
  {
   "cell_type": "code",
   "execution_count": null,
   "metadata": {},
   "outputs": [],
   "source": [
    "# we will be using the ETF_returns, and the respective weights for the calcuclation of the transaction costs\n",
    "# furthermore we need the return of the whole portfolio to calculate the TC"
   ]
  },
  {
   "cell_type": "code",
   "execution_count": null,
   "metadata": {},
   "outputs": [],
   "source": []
  },
  {
   "cell_type": "markdown",
   "metadata": {},
   "source": [
    "# Converting returns to Euro"
   ]
  },
  {
   "cell_type": "code",
   "execution_count": null,
   "metadata": {},
   "outputs": [],
   "source": []
  },
  {
   "cell_type": "code",
   "execution_count": null,
   "metadata": {},
   "outputs": [],
   "source": []
  },
  {
   "cell_type": "markdown",
   "metadata": {},
   "source": [
    "# Benchmarking"
   ]
  },
  {
   "cell_type": "code",
   "execution_count": null,
   "metadata": {},
   "outputs": [],
   "source": [
    "benchmark = df[[\"MSCI_EU\"]]\n",
    "benchmark = benchmark.loc[\"1999-12-31 00:00:00\":\"2022-09-30 00:00:00\"]\n",
    "benchmark"
   ]
  },
  {
   "cell_type": "code",
   "execution_count": null,
   "metadata": {},
   "outputs": [],
   "source": [
    "bm_mtl_ret = mtl_ret = benchmark.pct_change().resample(\"M\").agg(lambda x: (1+x).prod()-1) # pct_change creates ordinary returns, resample Monthly and aggregating with the (1+x) -1 formula to get monthly ordinary returns\n",
    "bm_mtl_ret\n"
   ]
  },
  {
   "cell_type": "code",
   "execution_count": null,
   "metadata": {},
   "outputs": [],
   "source": [
    "#compare momentum result vs benchmark\n",
    "comparison = pd.DataFrame(bm_mtl_ret)\n",
    "comparison[\"mom_ret\"] = profits\n",
    "comparison.rename(columns={ comparison.columns[0]: \"bench_ret\" }, inplace = True)\n",
    "comparison[\"bench_indexed\"] = comparison[\"bench_ret\"].add(1).cumprod()\n",
    "comparison[\"mom_indexed\"] = comparison[\"mom_ret\"].add(1).cumprod()\n",
    "comparison\n"
   ]
  },
  {
   "cell_type": "code",
   "execution_count": null,
   "metadata": {},
   "outputs": [],
   "source": [
    "comparison"
   ]
  },
  {
   "cell_type": "markdown",
   "metadata": {},
   "source": [
    "# Comparison Plot"
   ]
  },
  {
   "cell_type": "code",
   "execution_count": null,
   "metadata": {},
   "outputs": [],
   "source": [
    "# Plotting\n",
    "fig, ax = plt.subplots()\n",
    "ax.plot(comparison.index,comparison.mom_indexed, label=\"Momentum\", color=\"red\")\n",
    "ax.plot(comparison.index,comparison.bench_indexed, label=\"MSCI EU\", color=\"blue\")\n",
    "ax.legend(loc=\"best\")\n",
    "ax.set_ylabel('Monthly Returns')\n",
    "ax.set_title(\"Momentum long/short 5 sectors monthly rebalancing vs MSCI EU, indexed 31.12.1999\")"
   ]
  }
 ],
 "metadata": {
  "kernelspec": {
   "display_name": "Python 3",
   "language": "python",
   "name": "python3"
  },
  "language_info": {
   "codemirror_mode": {
    "name": "ipython",
    "version": 3
   },
   "file_extension": ".py",
   "mimetype": "text/x-python",
   "name": "python",
   "nbconvert_exporter": "python",
   "pygments_lexer": "ipython3",
   "version": "3.9.13"
  },
  "vscode": {
   "interpreter": {
    "hash": "aa336b74a8cbeead930f17f553be49714fc6c4491fbee50d1179d377ec590ae0"
   }
  }
 },
 "nbformat": 4,
 "nbformat_minor": 2
}
