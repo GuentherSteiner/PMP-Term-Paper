{
 "cells": [
  {
   "cell_type": "markdown",
   "metadata": {},
   "source": [
    "# Load Packages"
   ]
  },
  {
   "cell_type": "markdown",
   "metadata": {},
   "source": [
    "What we can recall from critisicm regarding this presentation:\n",
    "\n",
    "- did not take the equal weighted as benchmark\n",
    "- use total return indices (I think)"
   ]
  },
  {
   "cell_type": "code",
   "execution_count": 1,
   "metadata": {},
   "outputs": [],
   "source": [
    "#### Import required Packages ####\n",
    "import numpy as np\n",
    "import pandas as pd\n",
    "import seaborn as sb\n",
    "import datetime as dt\n",
    "import matplotlib.pyplot as plt\n",
    "from pandas.tseries.offsets import MonthEnd"
   ]
  },
  {
   "cell_type": "code",
   "execution_count": 2,
   "metadata": {},
   "outputs": [],
   "source": [
    "# Seaborn\n",
    "sb.set_style(\"ticks\")\n",
    "sb.mpl.rc(\"figure\", figsize=(16,8))\n",
    "sb.mpl.rc(\"font\", size=14)\n",
    "plt.rcParams['xtick.direction'] = 'in'\n",
    "plt.rcParams['ytick.direction'] = 'in'"
   ]
  },
  {
   "cell_type": "markdown",
   "metadata": {},
   "source": [
    "# Load Data"
   ]
  },
  {
   "cell_type": "code",
   "execution_count": 25,
   "metadata": {},
   "outputs": [],
   "source": [
    "# rawdata is direct import from excel\n",
    "\n",
    "# Import of excel data, sheet by sheet\n",
    "xls_ETF = pd.ExcelFile(\"1_Data/Data_ETF_YIELDS_1.0.xlsx\")\n",
    "xls_inflation = pd.ExcelFile(\"1_Data/Data_INFLATION_1.0.xlsm\")\n",
    "\n",
    "ETF_raw = pd.DataFrame(pd.read_excel(xls_ETF, 1))\n",
    "Yield_raw = pd.DataFrame(pd.read_excel(xls_ETF, 2))\n",
    "\n",
    "cpicore_raw = pd.DataFrame(pd.read_excel(xls_inflation, 0))\n",
    "targetrates_raw = pd.DataFrame(pd.read_excel(xls_inflation, 1))\n",
    "#rawdata.columns = [\"Trading_day\", \"Date\", \"MSCI_EU\", \"Healthcare\", \"Finacials\", \"Consumer_staples\",\"Industrials\",\"Consumer_discretionary\",\"Materials\", \"Information_technology\", \"Energy\", \"Utilities\", \"Communication_services\",\"Real_estate\"]\n",
    "\n",
    "\n",
    "# keep a safe copy of the rawdata to compare the changes\n",
    "ETF = ETF_raw\n",
    "Yield = Yield_raw\n",
    "cpicore = cpicore_raw\n",
    "targetrates = targetrates_raw"
   ]
  },
  {
   "cell_type": "code",
   "execution_count": 26,
   "metadata": {},
   "outputs": [],
   "source": [
    "# Drop all the columns in which only text is and safe them separately --> ONLY RUN ONCE\n",
    "ETF_text = ETF.iloc[0,:]\n",
    "Yield_text = Yield.iloc[0,:]\n",
    "cpicore_text = cpicore.iloc[0:1,:]\n",
    "\n",
    "ETF.drop([0], inplace = True)\n",
    "Yield.drop([0], inplace = True)\n",
    "cpicore.drop([0,1], inplace = True)\n",
    "\n",
    "# Set date as index\n",
    "ETF.set_index(\"Dates\", inplace=True)\n",
    "Yield.set_index(\"Dates\", inplace=True)\n",
    "cpicore.set_index(\"Dates\", inplace=True)\n",
    "targetrates.set_index(\"Dates\", inplace=True)"
   ]
  },
  {
   "cell_type": "markdown",
   "metadata": {},
   "source": [
    "# Value"
   ]
  },
  {
   "cell_type": "markdown",
   "metadata": {},
   "source": [
    "Recent infl – the average of the headline and core annual CPI inflation rate\n",
    "--> we don't have headline inflation\n",
    "\n",
    "\n",
    "Effective target infl - The effective inflation target is the mean of the target range announced or implied by the authorities plus an adjusted for past “target misses”, which is the last 3 years’ average gap between actual inflation and the target means\n",
    "--> we don't have target rates for all countries --> use 2.5 as target rate\n",
    "\n",
    "Formula: (1/n)*recent infl + ((n-1)/n)*effective target infl"
   ]
  },
  {
   "cell_type": "code",
   "execution_count": 36,
   "metadata": {},
   "outputs": [],
   "source": [
    "# create a one-dimensional array of target inflation in which we insert the 2.5 target rate for the missing values\n",
    "\n",
    "targetrates = targetrates.iloc[0,:]\n",
    "indicator = targetrates.isna()\n",
    "targetrates[indicator] = 2.5"
   ]
  },
  {
   "cell_type": "code",
   "execution_count": 118,
   "metadata": {},
   "outputs": [
    {
     "name": "stderr",
     "output_type": "stream",
     "text": [
      "<ipython-input-118-d5c7cc4e6cbb>:17: RuntimeWarning: Mean of empty slice\n",
      "  inflation = np.nanmean(cpicore.iloc[runner-35:runner, j])\n"
     ]
    }
   ],
   "source": [
    "# create the rolling 3-year average of the core inflation\n",
    "\n",
    "# first I have to set up an empty dictionary to store the rolling averages\n",
    "cpicore_avg = {}\n",
    "for i in cpicore.columns:\n",
    "    cpicore_avg[i] = []\n",
    "\n",
    "# next up we iterate over the cpicore data to get the index and safe them in the dictionary\n",
    "indices_reverse = cpicore.index[::-1]\n",
    "runner = len(indices_reverse)-1\n",
    "for i in indices_reverse:\n",
    "    if runner == 34:\n",
    "        break\n",
    "    \n",
    "    for j,k in enumerate(cpicore.columns):\n",
    "        inflation = np.nanmean(cpicore.iloc[runner-35:runner, j])\n",
    "        cpicore_avg[k].append(inflation)\n",
    "    runner -= 1\n",
    "    \n",
    "#cpicore_avg"
   ]
  },
  {
   "cell_type": "code",
   "execution_count": 146,
   "metadata": {},
   "outputs": [],
   "source": [
    "# now calculate the difference between 3-year average and target inflation\n",
    "\n",
    "eff_target_inf = cpicore_avg\n",
    "\n",
    "# special cases (Australia, Canada, UK, Japan, US, Switzerland) for which we have an actual target\n",
    "for key in cpicore_avg.keys():\n",
    "    if key == \"Australia\":\n",
    "        for i,k in enumerate(cpicore_avg[key]):\n",
    "            if k >= 2.0 and k <= 3.0:\n",
    "                eff_target_inf[key][i] = 0\n",
    "            elif k < 2.0:\n",
    "                eff_target_inf[key][i] = eff_target_inf[key][i] - 2\n",
    "            else:\n",
    "                eff_target_inf[key][i] = eff_target_inf[key][i] - 3\n",
    "                \n",
    "    elif key == \"Canada\":\n",
    "        for i,k in enumerate(cpicore_avg[key]):\n",
    "            if k >= 1.0 and k <= 3.0:\n",
    "                eff_target_inf[key][i] = 0\n",
    "            elif k < 2.0:\n",
    "                eff_target_inf[key][i] = eff_target_inf[key][i] - 1\n",
    "            else:\n",
    "                eff_target_inf[key][i] = eff_target_inf[key][i] - 3\n",
    "                \n",
    "    elif key == \"United Kingdom\":\n",
    "        for i,k in enumerate(cpicore_avg[key]):\n",
    "            if k == 2.0:\n",
    "                eff_target_inf[key][i] = 0\n",
    "            else:\n",
    "                eff_target_inf[key][i] = eff_target_inf[key][i] - 2\n",
    "                \n",
    "    elif key == \"Japan\":\n",
    "        for i,k in enumerate(cpicore_avg[key]):\n",
    "            if k == 3.3:\n",
    "                eff_target_inf[key][i] = 0\n",
    "            else:\n",
    "                eff_target_inf[key][i] = eff_target_inf[key][i] - 3.3\n",
    "                \n",
    "    elif key == \"United States\":\n",
    "        for i,k in enumerate(cpicore_avg[key]):\n",
    "            if k == 2.0:\n",
    "                eff_target_inf[key][i] = 0\n",
    "            else:\n",
    "                eff_target_inf[key][i] = eff_target_inf[key][i] - 2\n",
    "                \n",
    "    elif key == \"Switzerland\":\n",
    "        for i,k in enumerate(cpicore_avg[key]):\n",
    "            if k >= 0.0 and k <= 2.0:\n",
    "                eff_target_inf[key][i] = 0\n",
    "            elif k < 0.0:\n",
    "                eff_target_inf[key][i] = eff_target_inf[key][i] - 0\n",
    "            else:\n",
    "                eff_target_inf[key][i] = eff_target_inf[key][i] - 2\n",
    "                \n",
    "    else:\n",
    "        for i,k in enumerate(cpicore_avg[key]):\n",
    "            if k == 2.5:\n",
    "                eff_target_inf[key][i] = 0\n",
    "            else:\n",
    "                eff_target_inf[key][i] = eff_target_inf[key][i] - 2.5\n",
    "    "
   ]
  },
  {
   "cell_type": "code",
   "execution_count": null,
   "metadata": {},
   "outputs": [],
   "source": []
  },
  {
   "cell_type": "code",
   "execution_count": null,
   "metadata": {},
   "outputs": [],
   "source": []
  },
  {
   "cell_type": "code",
   "execution_count": null,
   "metadata": {},
   "outputs": [],
   "source": []
  },
  {
   "cell_type": "code",
   "execution_count": null,
   "metadata": {},
   "outputs": [],
   "source": []
  },
  {
   "cell_type": "code",
   "execution_count": null,
   "metadata": {},
   "outputs": [],
   "source": []
  },
  {
   "cell_type": "code",
   "execution_count": null,
   "metadata": {},
   "outputs": [],
   "source": []
  },
  {
   "cell_type": "code",
   "execution_count": null,
   "metadata": {},
   "outputs": [],
   "source": []
  },
  {
   "cell_type": "markdown",
   "metadata": {},
   "source": [
    "# Cut Momentum Frame"
   ]
  },
  {
   "cell_type": "code",
   "execution_count": null,
   "metadata": {},
   "outputs": [],
   "source": [
    "# Exclude Trading Days column and MSCI_EU Benchmark to have only Momentum columns\n",
    "prices = df.loc[:,\"Healthcare\":\"Real_estate\"]\n",
    "prices.dtypes"
   ]
  },
  {
   "cell_type": "code",
   "execution_count": null,
   "metadata": {},
   "outputs": [],
   "source": [
    "# Calculating Monthly returns\n",
    "mtl_ret = prices.pct_change().resample(\"M\").agg(lambda x: (1+x).prod()-1) # pct_change creates ordinary returns, resample Monthly and aggregating with the (1+x) -1 formula to get monthly ordinary returns\n",
    "mtl_ret"
   ]
  },
  {
   "cell_type": "code",
   "execution_count": null,
   "metadata": {},
   "outputs": [],
   "source": [
    "past_11 = (mtl_ret+1).rolling(11).apply(np.prod)-1 # accumulate returns over 11 months \n",
    "past_11.head(11)"
   ]
  },
  {
   "cell_type": "code",
   "execution_count": null,
   "metadata": {},
   "outputs": [],
   "source": [
    "# Defining formation date <-  where portfolio gets created\n",
    "formation = dt.datetime(1999, 12, 31, 0, 0)"
   ]
  },
  {
   "cell_type": "code",
   "execution_count": null,
   "metadata": {},
   "outputs": [],
   "source": [
    "# Defining MeasurementDate <- up to last date of month before formation date\n",
    "end_measurement = formation - MonthEnd(1)\n",
    "end_measurement"
   ]
  },
  {
   "cell_type": "code",
   "execution_count": null,
   "metadata": {},
   "outputs": [],
   "source": [
    "# Past 12 Month performance without most recent month <- in this case Jan, Feb, Mar, Apr, Jun, Jul, Sep, Oct, Nov but not December!\n",
    "ret_12 = past_11.loc[end_measurement]\n",
    "ret_12 = ret_12.reset_index()\n",
    "ret_12.rename(columns={ ret_12.columns[1]: \"returns\" }, inplace = True)\n",
    "ret_12"
   ]
  },
  {
   "cell_type": "code",
   "execution_count": null,
   "metadata": {},
   "outputs": [],
   "source": [
    "ret_12 = ret_12.sort_values([\"returns\"], ascending=False)\n",
    "ret_12[\"bucket\"] = [2,2,2,2,2,1,0,0,0,0,0] # Make three buckets\n",
    "ret_12"
   ]
  },
  {
   "cell_type": "code",
   "execution_count": null,
   "metadata": {},
   "outputs": [],
   "source": [
    "# Create winners and loser list based on bucket\n",
    "winners = ret_12[ret_12.bucket == 2]\n",
    "losers = ret_12[ret_12.bucket == 0]\n",
    "winners"
   ]
  },
  {
   "cell_type": "code",
   "execution_count": null,
   "metadata": {},
   "outputs": [],
   "source": [
    "# Calculate the winner and loser returns over the last 12 months excluding the most recent month\n",
    "winnerret = mtl_ret.loc[formation + MonthEnd(1), mtl_ret.columns.isin(winners[\"index\"])]\n",
    "loserret = mtl_ret.loc[formation + MonthEnd(1), mtl_ret.columns.isin(losers[\"index\"])]"
   ]
  },
  {
   "cell_type": "code",
   "execution_count": null,
   "metadata": {},
   "outputs": [],
   "source": [
    "Momentumprofit = winnerret.mean() - loserret.mean()\n",
    "Momentumprofit"
   ]
  },
  {
   "cell_type": "markdown",
   "metadata": {},
   "source": [
    "# Functionalising this Methodology"
   ]
  },
  {
   "cell_type": "code",
   "execution_count": null,
   "metadata": {},
   "outputs": [],
   "source": [
    "def data_cleaner(pandas_df, index=\"Date\", prices_start='Healthcare', prices_end='Real_estate', resample_freq='M', lookback=11):\n",
    "    print(pandas_df.isnull().values.any())\n",
    "    df = pandas_df.set_index(index, inplace=False)\n",
    "    prices = df.loc[:,prices_start:prices_end]\n",
    "    mtl_ret = prices.pct_change().resample(resample_freq).agg(lambda x: (1+x).prod()-1)\n",
    "    past_11 = (mtl_ret+1).rolling(lookback).apply(np.prod)-1\n",
    "    return prices, mtl_ret, past_11\n"
   ]
  },
  {
   "cell_type": "code",
   "execution_count": null,
   "metadata": {},
   "outputs": [],
   "source": [
    "dfff = dff.set_index(\"Date\", inplace = False)\n",
    "x = dfff.resample(\"M\")\n",
    "type(x)"
   ]
  },
  {
   "cell_type": "code",
   "execution_count": null,
   "metadata": {},
   "outputs": [],
   "source": [
    "#test out the data_cleaner function\n",
    "\n",
    "prices, mtl_ret, past_11 = data_cleaner(dff, lookback = 3, resample_freq= 'BM')\n",
    "print(f'\\nprices:\\n {prices}, \\nmonthly_return:\\n {mtl_ret}, \\npast_11:\\n {past_11}')"
   ]
  },
  {
   "cell_type": "code",
   "execution_count": null,
   "metadata": {},
   "outputs": [],
   "source": [
    "past_11.head(5)"
   ]
  },
  {
   "cell_type": "code",
   "execution_count": null,
   "metadata": {},
   "outputs": [],
   "source": [
    "def momentum(formation, past_11, num_l_s=5):\n",
    "    end_measurement = formation - MonthEnd(1)\n",
    "    ret_12 = past_11.loc[end_measurement]\n",
    "    ret_12 = ret_12.reset_index()\n",
    "    ret_12.rename(columns={ ret_12.columns[1]: \"returns\" }, inplace = True)\n",
    "    ret_12 = ret_12.sort_values([\"returns\"], ascending=False)\n",
    "    \n",
    "    middle = 11-2*num_l_s\n",
    "    l_s = []\n",
    "    for i in range(num_l_s):\n",
    "        l_s.append(2)\n",
    "    for i in range(middle):\n",
    "        l_s.append(1)\n",
    "    for i in range(num_l_s):\n",
    "        l_s.append(0)\n",
    "    ret_12[\"bucket\"] = l_s # Make arbitrary number of buckets\n",
    "    \n",
    "    winners = ret_12[ret_12.bucket == 2]\n",
    "    losers = ret_12[ret_12.bucket == 0]\n",
    "    winnerret = mtl_ret.loc[formation + MonthEnd(1), mtl_ret.columns.isin(winners[\"index\"])]\n",
    "    loserret = mtl_ret.loc[formation + MonthEnd(1), mtl_ret.columns.isin(losers[\"index\"])]\n",
    "    Momentumprofit = winnerret.mean() - loserret.mean()\n",
    "    return Momentumprofit\n",
    "\n",
    "\n",
    "\n",
    "\n",
    "\n"
   ]
  },
  {
   "cell_type": "code",
   "execution_count": null,
   "metadata": {},
   "outputs": [],
   "source": [
    "formation = dt.datetime(1999, 12, 31, 0, 0)\n",
    "momentum(formation, past_11) # has to be identical with [35]"
   ]
  },
  {
   "cell_type": "code",
   "execution_count": null,
   "metadata": {},
   "outputs": [],
   "source": [
    "def benchmarker(pandas_df, profits_list):\n",
    "    dff = pandas_df.set_index(\"Date\", inplace=False)\n",
    "    \n",
    "    benchmark = dff[[\"MSCI_EU\"]]\n",
    "    benchmark = benchmark.loc[\"1999-12-31 00:00:00\":\"2022-09-30 00:00:00\"]\n",
    "    \n",
    "    bm_mtl_ret = mtl_ret = benchmark.pct_change().resample(\"M\").agg(lambda x: (1+x).prod()-1) # pct_change creates ordinary returns, resample Monthly and aggregating with the (1+x) -1 formula to get monthly ordinary returns\n",
    "    comparison = pd.DataFrame(bm_mtl_ret)\n",
    "    comparison[\"mom_ret\"] = profits_list\n",
    "    comparison.rename(columns={ comparison.columns[0]: \"bench_ret\" }, inplace = True)\n",
    "    comparison[\"bench_indexed\"] = comparison[\"bench_ret\"].add(1).cumprod()\n",
    "    comparison[\"mom_indexed\"] = comparison[\"mom_ret\"].add(1).cumprod()\n",
    "    print(comparison)\n",
    "    \n",
    "    fig, ax = plt.subplots()\n",
    "    ax.plot(comparison.index,comparison.mom_indexed, label=\"Momentum\", color=\"red\")\n",
    "    ax.plot(comparison.index,comparison.bench_indexed, label=\"MSCI EU\", color=\"blue\")\n",
    "    ax.legend(loc=\"best\")\n",
    "    ax.set_ylabel('Monthly Returns')\n",
    "    ax.set_title(\"Momentum long/short 5 sectors monthly rebalancing vs MSCI EU, indexed 31.12.1999\")\n"
   ]
  },
  {
   "cell_type": "code",
   "execution_count": null,
   "metadata": {},
   "outputs": [],
   "source": [
    "# Creating loop for every month  starting at formation date -> creates df with all these dates\n",
    "for i in range(273): # Eig wären es 273 Monate zwischen 31.12.1999 und 31.12.2022 -> stimmt irgendwie ned ganz aber lauft jetzt halt so bis endi august\n",
    "    print(formation + MonthEnd(i))\n",
    "\n",
    "#wären es nicht 276 Monate? has mit emene Zeitspannen-rechner usgrechnet --> gahd ets bis endi november 2022\n",
    "for i in range(276):\n",
    "    print(formation + MonthEnd(i))\n"
   ]
  },
  {
   "cell_type": "code",
   "execution_count": null,
   "metadata": {},
   "outputs": [],
   "source": [
    "# Creating loop for storing the profits and the realized dates of the momentum strategy\n",
    "profits = []\n",
    "dates = []\n",
    "\n",
    "'''\n",
    "for i in range(273):\n",
    "    profits.append(momentum(formation + MonthEnd(i)))\n",
    "    dates.append(formation + MonthEnd(i))\n",
    "'''\n",
    "\n",
    "#version 2.0 (da gahds nume bis 274 --> gid en error wenn en monet meh nimmsch)\n",
    "for i in range(274):\n",
    "    profits.append(momentum(formation + MonthEnd(i), past_11))\n",
    "    dates.append(formation + MonthEnd(i))\n"
   ]
  },
  {
   "cell_type": "code",
   "execution_count": null,
   "metadata": {},
   "outputs": [],
   "source": [
    "benchmarker(df, profits)"
   ]
  },
  {
   "cell_type": "code",
   "execution_count": null,
   "metadata": {},
   "outputs": [],
   "source": [
    "mom = pd.DataFrame({\"Dates\": dates,\"Profits\": profits})\n",
    "mom"
   ]
  },
  {
   "cell_type": "markdown",
   "metadata": {},
   "source": [
    "# Benchmarking"
   ]
  },
  {
   "cell_type": "code",
   "execution_count": null,
   "metadata": {},
   "outputs": [],
   "source": [
    "benchmark = df[[\"MSCI_EU\"]]\n",
    "benchmark = benchmark.loc[\"1999-12-31 00:00:00\":\"2022-09-30 00:00:00\"]\n",
    "benchmark"
   ]
  },
  {
   "cell_type": "code",
   "execution_count": null,
   "metadata": {},
   "outputs": [],
   "source": [
    "bm_mtl_ret = mtl_ret = benchmark.pct_change().resample(\"M\").agg(lambda x: (1+x).prod()-1) # pct_change creates ordinary returns, resample Monthly and aggregating with the (1+x) -1 formula to get monthly ordinary returns\n",
    "bm_mtl_ret\n"
   ]
  },
  {
   "cell_type": "code",
   "execution_count": null,
   "metadata": {},
   "outputs": [],
   "source": [
    "#compare momentum result vs benchmark\n",
    "comparison = pd.DataFrame(bm_mtl_ret)\n",
    "comparison[\"mom_ret\"] = profits\n",
    "comparison.rename(columns={ comparison.columns[0]: \"bench_ret\" }, inplace = True)\n",
    "comparison[\"bench_indexed\"] = comparison[\"bench_ret\"].add(1).cumprod()\n",
    "comparison[\"mom_indexed\"] = comparison[\"mom_ret\"].add(1).cumprod()\n",
    "comparison\n"
   ]
  },
  {
   "cell_type": "code",
   "execution_count": null,
   "metadata": {},
   "outputs": [],
   "source": [
    "comparison"
   ]
  },
  {
   "cell_type": "markdown",
   "metadata": {},
   "source": [
    "# Comparison Plot"
   ]
  },
  {
   "cell_type": "code",
   "execution_count": null,
   "metadata": {},
   "outputs": [],
   "source": [
    "# Plotting\n",
    "fig, ax = plt.subplots()\n",
    "ax.plot(comparison.index,comparison.mom_indexed, label=\"Momentum\", color=\"red\")\n",
    "ax.plot(comparison.index,comparison.bench_indexed, label=\"MSCI EU\", color=\"blue\")\n",
    "ax.legend(loc=\"best\")\n",
    "ax.set_ylabel('Monthly Returns')\n",
    "ax.set_title(\"Momentum long/short 5 sectors monthly rebalancing vs MSCI EU, indexed 31.12.1999\")"
   ]
  }
 ],
 "metadata": {
  "kernelspec": {
   "display_name": "Python 3",
   "language": "python",
   "name": "python3"
  },
  "language_info": {
   "codemirror_mode": {
    "name": "ipython",
    "version": 3
   },
   "file_extension": ".py",
   "mimetype": "text/x-python",
   "name": "python",
   "nbconvert_exporter": "python",
   "pygments_lexer": "ipython3",
   "version": "3.8.5"
  },
  "vscode": {
   "interpreter": {
    "hash": "aa336b74a8cbeead930f17f553be49714fc6c4491fbee50d1179d377ec590ae0"
   }
  }
 },
 "nbformat": 4,
 "nbformat_minor": 2
}
