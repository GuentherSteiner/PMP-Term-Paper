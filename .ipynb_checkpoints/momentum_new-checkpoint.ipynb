{
 "cells": [
  {
   "cell_type": "markdown",
   "metadata": {},
   "source": [
    "# Load Packages"
   ]
  },
  {
   "cell_type": "markdown",
   "metadata": {},
   "source": [
    "What we can recall from critisicm regarding this presentation:\n",
    "\n",
    "- did not take the equal weighted as benchmark\n",
    "- use total return indices (I think)"
   ]
  },
  {
   "cell_type": "code",
   "execution_count": null,
   "metadata": {},
   "outputs": [],
   "source": [
    "#### Import required Packages ####\n",
    "import numpy as np\n",
    "import pandas as pd\n",
    "import seaborn as sb\n",
    "import datetime as dt\n",
    "import matplotlib.pyplot as plt\n",
    "from pandas.tseries.offsets import MonthEnd"
   ]
  },
  {
   "cell_type": "code",
   "execution_count": null,
   "metadata": {},
   "outputs": [],
   "source": [
    "# Seaborn\n",
    "sb.set_style(\"ticks\")\n",
    "sb.mpl.rc(\"figure\", figsize=(16,8))\n",
    "sb.mpl.rc(\"font\", size=14)\n",
    "plt.rcParams['xtick.direction'] = 'in'\n",
    "plt.rcParams['ytick.direction'] = 'in'\n",
    "\n",
    "# little function for later\n",
    "def isNaN(string):\n",
    "    return string != string"
   ]
  },
  {
   "cell_type": "markdown",
   "metadata": {},
   "source": [
    "# Load Data"
   ]
  },
  {
   "cell_type": "code",
   "execution_count": null,
   "metadata": {},
   "outputs": [],
   "source": [
    "# rawdata is direct import from excel\n",
    "\n",
    "# Import of excel data, sheet by sheet\n",
    "xls_ETF = pd.ExcelFile(\"1_Data/Data_ETF_YIELDS_1.0.xlsx\")\n",
    "xls_inflation = pd.ExcelFile(\"1_Data/Data_INFLATION_1.0.xlsm\")\n",
    "\n",
    "ETF_raw = pd.DataFrame(pd.read_excel(xls_ETF, 1))\n",
    "Yield_raw = pd.DataFrame(pd.read_excel(xls_ETF, 2))\n",
    "\n",
    "Yield_short_raw = pd.DataFrame(pd.read_excel(xls_ETF, 3))\n",
    "\n",
    "cpicore_raw = pd.DataFrame(pd.read_excel(xls_inflation, 0))\n",
    "targetrates_raw = pd.DataFrame(pd.read_excel(xls_inflation, 1))\n",
    "#rawdata.columns = [\"Trading_day\", \"Date\", \"MSCI_EU\", \"Healthcare\", \"Finacials\", \"Consumer_staples\",\"Industrials\",\"Consumer_discretionary\",\"Materials\", \"Information_technology\", \"Energy\", \"Utilities\", \"Communication_services\",\"Real_estate\"]\n",
    "\n",
    "\n",
    "# keep a safe copy of the rawdata to compare the changes\n",
    "ETF = ETF_raw.copy()\n",
    "Yield = Yield_raw.copy()\n",
    "Yield_short = Yield_short_raw.copy()\n",
    "cpicore = cpicore_raw.copy()\n",
    "targetrates = targetrates_raw.copy()"
   ]
  },
  {
   "cell_type": "code",
   "execution_count": null,
   "metadata": {},
   "outputs": [],
   "source": [
    "# Drop all the columns in which only text is and safe them separately --> ONLY RUN ONCE\n",
    "ETF_text = ETF.iloc[0,:]\n",
    "Yield_text = Yield.iloc[0,:]\n",
    "Yield_short_text = Yield_short.iloc[0,:]\n",
    "cpicore_text = cpicore.iloc[0:1,:]\n",
    "\n",
    "\n",
    "ETF.drop([0], inplace = True)\n",
    "Yield.drop([0], inplace = True)\n",
    "Yield_short.drop([0], inplace = True)\n",
    "cpicore.drop([0,1], inplace = True)\n",
    "\n",
    "# Set date as index\n",
    "ETF.set_index(\"Dates\", inplace=True)\n",
    "Yield.set_index(\"Dates\", inplace=True)\n",
    "Yield_short.set_index(\"Dates\", inplace=True)\n",
    "cpicore.set_index(\"Dates\", inplace=True)\n",
    "targetrates.set_index(\"Dates\", inplace=True)"
   ]
  },
  {
   "cell_type": "markdown",
   "metadata": {},
   "source": [
    "# Value"
   ]
  },
  {
   "cell_type": "markdown",
   "metadata": {},
   "source": [
    "Recent infl – the average of the headline and core annual CPI inflation rate\n",
    "--> we don't have headline inflation\n",
    "\n",
    "\n",
    "Effective target infl - The effective inflation target is the mean of the target range announced or implied by the authorities plus an adjusted for past “target misses”, which is the last 3 years’ average gap between actual inflation and the target means\n",
    "--> we don't have target rates for all countries --> use 2.5 as target rate\n",
    "\n",
    "Formula: (1/n)*recent infl + ((n-1)/n)*effective target infl"
   ]
  },
  {
   "cell_type": "code",
   "execution_count": null,
   "metadata": {},
   "outputs": [],
   "source": [
    "# create the rolling 3-year average of the core inflation\n",
    "\n",
    "# first I have to set up an empty dictionary to store the rolling averages\n",
    "cpicore_avg = {}\n",
    "for i in cpicore.columns:\n",
    "    cpicore_avg[i] = []\n",
    "\n",
    "# next up we iterate over the cpicore data to get the index and safe them in the dictionary\n",
    "indices_reverse = cpicore.index[::-1]\n",
    "runner = len(indices_reverse)\n",
    "for i in indices_reverse:\n",
    "    if runner == 35:\n",
    "        break\n",
    "    \n",
    "    for j,k in enumerate(cpicore.columns):\n",
    "        inflation = np.nanmean(cpicore.iloc[runner-36:runner, j])\n",
    "        cpicore_avg[k].append(inflation)\n",
    "    runner -= 1\n",
    "    \n",
    "#cpicore_avg\n",
    "cpicore_avg_trimmed = pd.DataFrame(cpicore_avg)"
   ]
  },
  {
   "cell_type": "code",
   "execution_count": null,
   "metadata": {},
   "outputs": [],
   "source": [
    "# now calculate the difference between 3-year average and target inflation\n",
    "\n",
    "eff_target_inf = dict(cpicore_avg)\n",
    "\n",
    "# special cases (Australia, Canada, UK, Japan, US, Switzerland) for which we have an actual target\n",
    "for key in cpicore_avg.keys():\n",
    "    if key == \"Australia\":\n",
    "        for i,k in enumerate(cpicore_avg[key]):\n",
    "            if k >= 2.0 and k <= 3.0:\n",
    "                eff_target_inf[key][i] = 0\n",
    "            elif k < 2.0:\n",
    "                eff_target_inf[key][i] = eff_target_inf[key][i] - 2\n",
    "            else:\n",
    "                eff_target_inf[key][i] = eff_target_inf[key][i] - 3\n",
    "                \n",
    "    elif key == \"Canada\":\n",
    "        for i,k in enumerate(cpicore_avg[key]):\n",
    "            if k >= 1.0 and k <= 3.0:\n",
    "                eff_target_inf[key][i] = 0\n",
    "            elif k < 2.0:\n",
    "                eff_target_inf[key][i] = eff_target_inf[key][i] - 1\n",
    "            else:\n",
    "                eff_target_inf[key][i] = eff_target_inf[key][i] - 3\n",
    "                \n",
    "    elif key == \"United Kingdom\":\n",
    "        for i,k in enumerate(cpicore_avg[key]):\n",
    "            if k == 2.0:\n",
    "                eff_target_inf[key][i] = 0\n",
    "            else:\n",
    "                eff_target_inf[key][i] = eff_target_inf[key][i] - 2\n",
    "                \n",
    "    elif key == \"Japan\":\n",
    "        for i,k in enumerate(cpicore_avg[key]):\n",
    "            if k == 3.3:\n",
    "                eff_target_inf[key][i] = 0\n",
    "            else:\n",
    "                eff_target_inf[key][i] = eff_target_inf[key][i] - 3.3\n",
    "                \n",
    "    elif key == \"United States\":\n",
    "        for i,k in enumerate(cpicore_avg[key]):\n",
    "            if k == 2.0:\n",
    "                eff_target_inf[key][i] = 0\n",
    "            else:\n",
    "                eff_target_inf[key][i] = eff_target_inf[key][i] - 2\n",
    "                \n",
    "    elif key == \"Switzerland\":\n",
    "        for i,k in enumerate(cpicore_avg[key]):\n",
    "            if k >= 0.0 and k <= 2.0:\n",
    "                eff_target_inf[key][i] = 0\n",
    "            elif k < 0.0:\n",
    "                eff_target_inf[key][i] = eff_target_inf[key][i] - 0\n",
    "            else:\n",
    "                eff_target_inf[key][i] = eff_target_inf[key][i] - 2\n",
    "                \n",
    "    else:\n",
    "        for i,k in enumerate(cpicore_avg[key]):\n",
    "            if k == 2.5:\n",
    "                eff_target_inf[key][i] = 0\n",
    "            else:\n",
    "                eff_target_inf[key][i] = eff_target_inf[key][i] - 2.5\n"
   ]
  },
  {
   "cell_type": "code",
   "execution_count": null,
   "metadata": {},
   "outputs": [],
   "source": [
    "# now we calculate the value formula:\n",
    "# (1/n)*recent inflation + ((n-1)/n)*effective target inflation for the years: 2, 5, 10, 20, 30\n",
    "\n",
    "# first we need to align the dataframes \n",
    "cpicore_trimmed = cpicore[35:]\n",
    "#cpicore_avg_trimmed = pd.DataFrame(cpicore_avg)\n",
    "cpicore_avg_trimmed.set_index(cpicore_trimmed.index, inplace = True)\n",
    "\n",
    "# second we create an empty dictionary to fill with the calculations\n",
    "formula_values = {}\n",
    "x = 0\n",
    "for i in cpicore_trimmed.columns:\n",
    "    x += 1\n",
    "    for j in [2,5,10,20,30]:\n",
    "        formula_values[f\"{x},{j}\"] = []\n",
    "#formula_values\n",
    "\n",
    "# now that we have the empty dictionary to fill, we start with caluclating the inflation expectation\n",
    "keys = list(formula_values.keys())\n",
    "\n",
    "runner = 0\n",
    "for i,k in enumerate (cpicore_trimmed.columns):\n",
    "    for j in [2,5,10,20,30]:\n",
    "        formula_values[keys[runner]].append((1/j)*cpicore_trimmed[k] +((j-1)/j)*cpicore_avg_trimmed[k])\n",
    "        runner += 1"
   ]
  },
  {
   "cell_type": "code",
   "execution_count": null,
   "metadata": {},
   "outputs": [],
   "source": [
    "# in a next step we adjust the yield data to have the same lookback as the other data\n",
    "\n",
    "Yield_trimmed = Yield[35:]\n",
    "\n",
    "Real_yield = pd.DataFrame(columns = Yield_trimmed.columns, index = Yield_trimmed.index)\n",
    "\n",
    "# here we calculate the difference between the yield etf and the inflation\n",
    "for i,k in enumerate(Real_yield.columns):\n",
    "    key = keys[i]\n",
    "    for j,l in enumerate(Real_yield.index):\n",
    "        Real_yield.iloc[j,i] = Yield_trimmed.iloc[j,i] - formula_values[key][0][j]"
   ]
  },
  {
   "cell_type": "code",
   "execution_count": null,
   "metadata": {},
   "outputs": [],
   "source": [
    "# in a final step we will now take the average of the countries different maturities yields\n",
    "\n",
    "countries = Real_yield.columns\n",
    "avg_yield_countries = {}\n",
    "for i in range(0,len(countries),5):\n",
    "    avg_yield_countries[countries[i]] = []\n",
    "    \n",
    "countries = list(avg_yield_countries.keys())\n",
    "\n",
    "\n",
    "for i,k in enumerate(avg_yield_countries.keys()):\n",
    "    for j,l in enumerate(Real_yield.index):\n",
    "        m = 0\n",
    "        for f in range(0,5):\n",
    "            m = m + 1/5 * Real_yield.iloc[j,f+5*i]\n",
    "        avg_yield_countries[countries[i]].append(m)\n",
    "\n",
    "avg_yield_countries = pd.DataFrame(avg_yield_countries)\n",
    "#avg_yield_countries\n",
    "\n",
    "# finally we have to search for the maximum in each row\n",
    "\n",
    "maximum_value = avg_yield_countries.idxmax(axis=1)\n",
    "#maximum_value"
   ]
  },
  {
   "cell_type": "code",
   "execution_count": null,
   "metadata": {},
   "outputs": [],
   "source": [
    "avg_yield_countries"
   ]
  },
  {
   "cell_type": "markdown",
   "metadata": {},
   "source": [
    "# Momentum"
   ]
  },
  {
   "cell_type": "code",
   "execution_count": null,
   "metadata": {},
   "outputs": [],
   "source": [
    "# we start off by copying the dataframe and initiating a new empty dataframe to store the return\n",
    "\n",
    "ETF_tr = ETF.copy()\n",
    "ETF_returns = pd.DataFrame(columns = ETF_tr.columns, index = ETF_tr.index)\n",
    "\n",
    "for i,k in enumerate(ETF_tr.index):\n",
    "    if i == 0:\n",
    "        continue\n",
    "    for j,m in enumerate(ETF_tr.columns):\n",
    "        ETF_returns.iloc[i,j] = (ETF_tr.iloc[i,j]/ETF_tr.iloc[i-1,j])-1\n",
    "\n",
    "\n",
    "# here we convert the values to numeric in order to take the maximum afterwards\n",
    "ETF_returns = ETF_returns.apply(pd.to_numeric)\n",
    "\n",
    "# finally we search for the country with the highest momentum and store the values\n",
    "maximum_mom = ETF_returns.idxmax(axis = 1, skipna = True)\n",
    "#maximum_mom"
   ]
  },
  {
   "cell_type": "markdown",
   "metadata": {},
   "source": [
    "# Carry"
   ]
  },
  {
   "cell_type": "code",
   "execution_count": null,
   "metadata": {},
   "outputs": [],
   "source": [
    "# for carry we will now calculate the differences between the long-term yields (2,5,10,20,30) and short-term yields (1M, 3M)\n",
    "# we will create a dataframe for the 1M and the 3M\n",
    "\n",
    "Carry_1m = pd.DataFrame(columns = Yield.columns, index = Yield.index)\n",
    "Carry_3m = pd.DataFrame(columns = Yield.columns, index = Yield.index)\n",
    "avg_Carry_1m = pd.DataFrame(0, columns = countries, index = Yield.index)\n",
    "avg_Carry_3m = pd.DataFrame(0, columns = countries, index = Yield.index)\n",
    "\n",
    "# next we will iterate through all the columns of the yields and substract the short-term rate\n",
    "runner = 0\n",
    "counter = 0\n",
    "for i,k in enumerate(Yield.columns):\n",
    "    if counter == 5:\n",
    "        counter = 0\n",
    "        runner += 2\n",
    "    counter += 1\n",
    "    Carry_1m.iloc[:,i] = Yield.iloc[:,i] - Yield_short.iloc[:,runner]\n",
    "    Carry_3m.iloc[:,i] = Yield.iloc[:,i] - Yield_short.iloc[:,runner+1]\n",
    "    \n",
    "# next we will equal weight the carry signal among the countries\n",
    "for i in range(len(countries)):\n",
    "    j = 0\n",
    "    while j != 5:\n",
    "        avg_Carry_1m.iloc[:,i] += 1/5 * Carry_1m.iloc[:,i+j]\n",
    "        avg_Carry_3m.iloc[:,i] += 1/5 * Carry_3m.iloc[:,i+j]\n",
    "        j += 1\n",
    "        \n",
    "# change data values from object to float\n",
    "avg_Carry_1m = avg_Carry_1m.apply(pd.to_numeric)\n",
    "avg_Carry_3m = avg_Carry_3m.apply(pd.to_numeric)"
   ]
  },
  {
   "cell_type": "code",
   "execution_count": null,
   "metadata": {},
   "outputs": [],
   "source": [
    "avg_Carry_1m"
   ]
  },
  {
   "cell_type": "markdown",
   "metadata": {},
   "source": [
    "# Sort function to create the buckets"
   ]
  },
  {
   "cell_type": "code",
   "execution_count": null,
   "metadata": {},
   "outputs": [],
   "source": [
    "def pmp_sort(pandas_DataFrame, nMax):\n",
    "    top_bucket = {}\n",
    "    bottom_bucket = {}\n",
    "    for i,k in enumerate(pandas_DataFrame.index):\n",
    "        top_bucket[k] = []\n",
    "        bottom_bucket[k] = []\n",
    "        a = pandas_DataFrame.iloc[i]\n",
    "        for j in range(5):\n",
    "            x = a.idxmax()\n",
    "            y = a.idxmin()\n",
    "            if isNaN(x) and isNaN(y):\n",
    "                break\n",
    "            top_bucket[k].append(x)\n",
    "            bottom_bucket[k].append(y)\n",
    "            a = a.drop([x,y])"
   ]
  },
  {
   "cell_type": "code",
   "execution_count": null,
   "metadata": {},
   "outputs": [],
   "source": [
    "top_bucket = {}\n",
    "bottom_bucket = {}\n",
    "for i,k in enumerate(avg_yield_countries.index):\n",
    "    top_bucket[k] = []\n",
    "    bottom_bucket[k] = []\n",
    "    a = avg_yield_countries.iloc[i]\n",
    "    for i in range(5):\n",
    "        x = a.idxmax()\n",
    "        y = a.idxmin()\n",
    "        if isNaN(x):\n",
    "            continue\n",
    "        else:\n",
    "            top_bucket[k].append(x)\n",
    "            a = a.drop(x)\n",
    "        if isNaN(y):\n",
    "            continue\n",
    "        else:\n",
    "            bottom_bucket[k].append(y)\n",
    "            a = a.drop(y)"
   ]
  },
  {
   "cell_type": "code",
   "execution_count": null,
   "metadata": {},
   "outputs": [],
   "source": [
    "print(top_bucket)\n",
    "# print(bottom_bucket[0])\n",
    "\n",
    "# avg_yield_countries"
   ]
  },
  {
   "cell_type": "code",
   "execution_count": null,
   "metadata": {},
   "outputs": [],
   "source": [
    "x = avg_Carry_1m.iloc[0].drop([\"Switzerland\", np.nan])\n",
    "avg_Carry_1m.iloc[0]\n",
    "x"
   ]
  },
  {
   "cell_type": "code",
   "execution_count": null,
   "metadata": {},
   "outputs": [],
   "source": []
  },
  {
   "cell_type": "code",
   "execution_count": null,
   "metadata": {},
   "outputs": [],
   "source": []
  },
  {
   "cell_type": "code",
   "execution_count": null,
   "metadata": {},
   "outputs": [],
   "source": []
  },
  {
   "cell_type": "code",
   "execution_count": null,
   "metadata": {},
   "outputs": [],
   "source": [
    "a = avg_yield_countries.iloc[0,2]\n",
    "b = avg_yield_countries.iloc[0,4]\n",
    "np.isnan([\"a\",b]).all()"
   ]
  },
  {
   "cell_type": "code",
   "execution_count": null,
   "metadata": {},
   "outputs": [],
   "source": [
    "p = []\n",
    "p.append(np.nan)\n",
    "p"
   ]
  },
  {
   "cell_type": "code",
   "execution_count": null,
   "metadata": {},
   "outputs": [],
   "source": []
  },
  {
   "cell_type": "code",
   "execution_count": null,
   "metadata": {},
   "outputs": [],
   "source": []
  },
  {
   "cell_type": "code",
   "execution_count": null,
   "metadata": {},
   "outputs": [],
   "source": []
  },
  {
   "cell_type": "code",
   "execution_count": null,
   "metadata": {},
   "outputs": [],
   "source": []
  },
  {
   "cell_type": "markdown",
   "metadata": {},
   "source": [
    "# Cut Momentum Frame"
   ]
  },
  {
   "cell_type": "code",
   "execution_count": null,
   "metadata": {},
   "outputs": [],
   "source": [
    "# Exclude Trading Days column and MSCI_EU Benchmark to have only Momentum columns\n",
    "prices = df.loc[:,\"Healthcare\":\"Real_estate\"]\n",
    "prices.dtypes"
   ]
  },
  {
   "cell_type": "code",
   "execution_count": null,
   "metadata": {},
   "outputs": [],
   "source": [
    "# Calculating Monthly returns\n",
    "mtl_ret = prices.pct_change().resample(\"M\").agg(lambda x: (1+x).prod()-1) # pct_change creates ordinary returns, resample Monthly and aggregating with the (1+x) -1 formula to get monthly ordinary returns\n",
    "mtl_ret"
   ]
  },
  {
   "cell_type": "code",
   "execution_count": null,
   "metadata": {},
   "outputs": [],
   "source": [
    "past_11 = (mtl_ret+1).rolling(11).apply(np.prod)-1 # accumulate returns over 11 months \n",
    "past_11.head(11)"
   ]
  },
  {
   "cell_type": "code",
   "execution_count": null,
   "metadata": {},
   "outputs": [],
   "source": [
    "# Defining formation date <-  where portfolio gets created\n",
    "formation = dt.datetime(1999, 12, 31, 0, 0)"
   ]
  },
  {
   "cell_type": "code",
   "execution_count": null,
   "metadata": {},
   "outputs": [],
   "source": [
    "# Defining MeasurementDate <- up to last date of month before formation date\n",
    "end_measurement = formation - MonthEnd(1)\n",
    "end_measurement"
   ]
  },
  {
   "cell_type": "code",
   "execution_count": null,
   "metadata": {},
   "outputs": [],
   "source": [
    "# Past 12 Month performance without most recent month <- in this case Jan, Feb, Mar, Apr, Jun, Jul, Sep, Oct, Nov but not December!\n",
    "ret_12 = past_11.loc[end_measurement]\n",
    "ret_12 = ret_12.reset_index()\n",
    "ret_12.rename(columns={ ret_12.columns[1]: \"returns\" }, inplace = True)\n",
    "ret_12"
   ]
  },
  {
   "cell_type": "code",
   "execution_count": null,
   "metadata": {},
   "outputs": [],
   "source": [
    "ret_12 = ret_12.sort_values([\"returns\"], ascending=False)\n",
    "ret_12[\"bucket\"] = [2,2,2,2,2,1,0,0,0,0,0] # Make three buckets\n",
    "ret_12"
   ]
  },
  {
   "cell_type": "code",
   "execution_count": null,
   "metadata": {},
   "outputs": [],
   "source": [
    "# Create winners and loser list based on bucket\n",
    "winners = ret_12[ret_12.bucket == 2]\n",
    "losers = ret_12[ret_12.bucket == 0]\n",
    "winners"
   ]
  },
  {
   "cell_type": "code",
   "execution_count": null,
   "metadata": {},
   "outputs": [],
   "source": [
    "# Calculate the winner and loser returns over the last 12 months excluding the most recent month\n",
    "winnerret = mtl_ret.loc[formation + MonthEnd(1), mtl_ret.columns.isin(winners[\"index\"])]\n",
    "loserret = mtl_ret.loc[formation + MonthEnd(1), mtl_ret.columns.isin(losers[\"index\"])]"
   ]
  },
  {
   "cell_type": "code",
   "execution_count": null,
   "metadata": {},
   "outputs": [],
   "source": [
    "Momentumprofit = winnerret.mean() - loserret.mean()\n",
    "Momentumprofit"
   ]
  },
  {
   "cell_type": "markdown",
   "metadata": {},
   "source": [
    "# Functionalising this Methodology"
   ]
  },
  {
   "cell_type": "code",
   "execution_count": null,
   "metadata": {},
   "outputs": [],
   "source": [
    "def data_cleaner(pandas_df, index=\"Date\", prices_start='Healthcare', prices_end='Real_estate', resample_freq='M', lookback=11):\n",
    "    print(pandas_df.isnull().values.any())\n",
    "    df = pandas_df.set_index(index, inplace=False)\n",
    "    prices = df.loc[:,prices_start:prices_end]\n",
    "    mtl_ret = prices.pct_change().resample(resample_freq).agg(lambda x: (1+x).prod()-1)\n",
    "    past_11 = (mtl_ret+1).rolling(lookback).apply(np.prod)-1\n",
    "    return prices, mtl_ret, past_11\n"
   ]
  },
  {
   "cell_type": "code",
   "execution_count": null,
   "metadata": {},
   "outputs": [],
   "source": [
    "dfff = dff.set_index(\"Date\", inplace = False)\n",
    "x = dfff.resample(\"M\")\n",
    "type(x)"
   ]
  },
  {
   "cell_type": "code",
   "execution_count": null,
   "metadata": {},
   "outputs": [],
   "source": [
    "#test out the data_cleaner function\n",
    "\n",
    "prices, mtl_ret, past_11 = data_cleaner(dff, lookback = 3, resample_freq= 'BM')\n",
    "print(f'\\nprices:\\n {prices}, \\nmonthly_return:\\n {mtl_ret}, \\npast_11:\\n {past_11}')"
   ]
  },
  {
   "cell_type": "code",
   "execution_count": null,
   "metadata": {},
   "outputs": [],
   "source": [
    "past_11.head(5)"
   ]
  },
  {
   "cell_type": "code",
   "execution_count": null,
   "metadata": {},
   "outputs": [],
   "source": [
    "def momentum(formation, past_11, num_l_s=5):\n",
    "    end_measurement = formation - MonthEnd(1)\n",
    "    ret_12 = past_11.loc[end_measurement]\n",
    "    ret_12 = ret_12.reset_index()\n",
    "    ret_12.rename(columns={ ret_12.columns[1]: \"returns\" }, inplace = True)\n",
    "    ret_12 = ret_12.sort_values([\"returns\"], ascending=False)\n",
    "    \n",
    "    middle = 11-2*num_l_s\n",
    "    l_s = []\n",
    "    for i in range(num_l_s):\n",
    "        l_s.append(2)\n",
    "    for i in range(middle):\n",
    "        l_s.append(1)\n",
    "    for i in range(num_l_s):\n",
    "        l_s.append(0)\n",
    "    ret_12[\"bucket\"] = l_s # Make arbitrary number of buckets\n",
    "    \n",
    "    winners = ret_12[ret_12.bucket == 2]\n",
    "    losers = ret_12[ret_12.bucket == 0]\n",
    "    winnerret = mtl_ret.loc[formation + MonthEnd(1), mtl_ret.columns.isin(winners[\"index\"])]\n",
    "    loserret = mtl_ret.loc[formation + MonthEnd(1), mtl_ret.columns.isin(losers[\"index\"])]\n",
    "    Momentumprofit = winnerret.mean() - loserret.mean()\n",
    "    return Momentumprofit\n",
    "\n",
    "\n",
    "\n",
    "\n",
    "\n"
   ]
  },
  {
   "cell_type": "code",
   "execution_count": null,
   "metadata": {},
   "outputs": [],
   "source": [
    "formation = dt.datetime(1999, 12, 31, 0, 0)\n",
    "momentum(formation, past_11) # has to be identical with [35]"
   ]
  },
  {
   "cell_type": "code",
   "execution_count": null,
   "metadata": {},
   "outputs": [],
   "source": [
    "def benchmarker(pandas_df, profits_list):\n",
    "    dff = pandas_df.set_index(\"Date\", inplace=False)\n",
    "    \n",
    "    benchmark = dff[[\"MSCI_EU\"]]\n",
    "    benchmark = benchmark.loc[\"1999-12-31 00:00:00\":\"2022-09-30 00:00:00\"]\n",
    "    \n",
    "    bm_mtl_ret = mtl_ret = benchmark.pct_change().resample(\"M\").agg(lambda x: (1+x).prod()-1) # pct_change creates ordinary returns, resample Monthly and aggregating with the (1+x) -1 formula to get monthly ordinary returns\n",
    "    comparison = pd.DataFrame(bm_mtl_ret)\n",
    "    comparison[\"mom_ret\"] = profits_list\n",
    "    comparison.rename(columns={ comparison.columns[0]: \"bench_ret\" }, inplace = True)\n",
    "    comparison[\"bench_indexed\"] = comparison[\"bench_ret\"].add(1).cumprod()\n",
    "    comparison[\"mom_indexed\"] = comparison[\"mom_ret\"].add(1).cumprod()\n",
    "    print(comparison)\n",
    "    \n",
    "    fig, ax = plt.subplots()\n",
    "    ax.plot(comparison.index,comparison.mom_indexed, label=\"Momentum\", color=\"red\")\n",
    "    ax.plot(comparison.index,comparison.bench_indexed, label=\"MSCI EU\", color=\"blue\")\n",
    "    ax.legend(loc=\"best\")\n",
    "    ax.set_ylabel('Monthly Returns')\n",
    "    ax.set_title(\"Momentum long/short 5 sectors monthly rebalancing vs MSCI EU, indexed 31.12.1999\")\n"
   ]
  },
  {
   "cell_type": "code",
   "execution_count": null,
   "metadata": {},
   "outputs": [],
   "source": [
    "# Creating loop for every month  starting at formation date -> creates df with all these dates\n",
    "for i in range(273): # Eig wären es 273 Monate zwischen 31.12.1999 und 31.12.2022 -> stimmt irgendwie ned ganz aber lauft jetzt halt so bis endi august\n",
    "    print(formation + MonthEnd(i))\n",
    "\n",
    "#wären es nicht 276 Monate? has mit emene Zeitspannen-rechner usgrechnet --> gahd ets bis endi november 2022\n",
    "for i in range(276):\n",
    "    print(formation + MonthEnd(i))\n"
   ]
  },
  {
   "cell_type": "code",
   "execution_count": null,
   "metadata": {},
   "outputs": [],
   "source": [
    "# Creating loop for storing the profits and the realized dates of the momentum strategy\n",
    "profits = []\n",
    "dates = []\n",
    "\n",
    "'''\n",
    "for i in range(273):\n",
    "    profits.append(momentum(formation + MonthEnd(i)))\n",
    "    dates.append(formation + MonthEnd(i))\n",
    "'''\n",
    "\n",
    "#version 2.0 (da gahds nume bis 274 --> gid en error wenn en monet meh nimmsch)\n",
    "for i in range(274):\n",
    "    profits.append(momentum(formation + MonthEnd(i), past_11))\n",
    "    dates.append(formation + MonthEnd(i))\n"
   ]
  },
  {
   "cell_type": "code",
   "execution_count": null,
   "metadata": {},
   "outputs": [],
   "source": [
    "benchmarker(df, profits)"
   ]
  },
  {
   "cell_type": "code",
   "execution_count": null,
   "metadata": {},
   "outputs": [],
   "source": [
    "mom = pd.DataFrame({\"Dates\": dates,\"Profits\": profits})\n",
    "mom"
   ]
  },
  {
   "cell_type": "markdown",
   "metadata": {},
   "source": [
    "# Benchmarking"
   ]
  },
  {
   "cell_type": "code",
   "execution_count": null,
   "metadata": {},
   "outputs": [],
   "source": [
    "benchmark = df[[\"MSCI_EU\"]]\n",
    "benchmark = benchmark.loc[\"1999-12-31 00:00:00\":\"2022-09-30 00:00:00\"]\n",
    "benchmark"
   ]
  },
  {
   "cell_type": "code",
   "execution_count": null,
   "metadata": {},
   "outputs": [],
   "source": [
    "bm_mtl_ret = mtl_ret = benchmark.pct_change().resample(\"M\").agg(lambda x: (1+x).prod()-1) # pct_change creates ordinary returns, resample Monthly and aggregating with the (1+x) -1 formula to get monthly ordinary returns\n",
    "bm_mtl_ret\n"
   ]
  },
  {
   "cell_type": "code",
   "execution_count": null,
   "metadata": {},
   "outputs": [],
   "source": [
    "#compare momentum result vs benchmark\n",
    "comparison = pd.DataFrame(bm_mtl_ret)\n",
    "comparison[\"mom_ret\"] = profits\n",
    "comparison.rename(columns={ comparison.columns[0]: \"bench_ret\" }, inplace = True)\n",
    "comparison[\"bench_indexed\"] = comparison[\"bench_ret\"].add(1).cumprod()\n",
    "comparison[\"mom_indexed\"] = comparison[\"mom_ret\"].add(1).cumprod()\n",
    "comparison\n"
   ]
  },
  {
   "cell_type": "code",
   "execution_count": null,
   "metadata": {},
   "outputs": [],
   "source": [
    "comparison"
   ]
  },
  {
   "cell_type": "markdown",
   "metadata": {},
   "source": [
    "# Comparison Plot"
   ]
  },
  {
   "cell_type": "code",
   "execution_count": null,
   "metadata": {},
   "outputs": [],
   "source": [
    "# Plotting\n",
    "fig, ax = plt.subplots()\n",
    "ax.plot(comparison.index,comparison.mom_indexed, label=\"Momentum\", color=\"red\")\n",
    "ax.plot(comparison.index,comparison.bench_indexed, label=\"MSCI EU\", color=\"blue\")\n",
    "ax.legend(loc=\"best\")\n",
    "ax.set_ylabel('Monthly Returns')\n",
    "ax.set_title(\"Momentum long/short 5 sectors monthly rebalancing vs MSCI EU, indexed 31.12.1999\")"
   ]
  }
 ],
 "metadata": {
  "kernelspec": {
   "display_name": "Python 3",
   "language": "python",
   "name": "python3"
  },
  "language_info": {
   "codemirror_mode": {
    "name": "ipython",
    "version": 3
   },
   "file_extension": ".py",
   "mimetype": "text/x-python",
   "name": "python",
   "nbconvert_exporter": "python",
   "pygments_lexer": "ipython3",
   "version": "3.8.5"
  },
  "vscode": {
   "interpreter": {
    "hash": "aa336b74a8cbeead930f17f553be49714fc6c4491fbee50d1179d377ec590ae0"
   }
  }
 },
 "nbformat": 4,
 "nbformat_minor": 2
}
